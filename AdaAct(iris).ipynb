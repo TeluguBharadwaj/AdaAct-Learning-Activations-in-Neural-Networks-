{
 "cells": [
  {
   "cell_type": "code",
   "execution_count": 1,
   "id": "f93b3dd7",
   "metadata": {},
   "outputs": [],
   "source": [
    "import numpy as np\n",
    "import pandas as pd\n",
    "import pickle\n",
    "import tensorflow as tf\n",
    "from tensorflow import keras\n",
    "from tensorflow.keras import layers\n",
    "import matplotlib.pyplot as plt\n",
    "from tensorflow.keras.models import Sequential\n",
    "from sklearn.metrics import f1_score\n",
    "from sklearn.datasets import load_iris\n",
    "from sklearn.model_selection import train_test_split\n",
    "from sklearn.preprocessing import OneHotEncoder, StandardScaler"
   ]
  },
  {
   "cell_type": "code",
   "execution_count": 2,
   "id": "c6bdded0",
   "metadata": {},
   "outputs": [],
   "source": [
    "#Loading the iris dataset\n",
    "iris = load_iris()\n",
    "X = iris['data']\n",
    "y = iris['target']\n",
    "names = iris['target_names']\n",
    "feature_names = iris['feature_names']"
   ]
  },
  {
   "cell_type": "code",
   "execution_count": 3,
   "id": "7a86b521",
   "metadata": {},
   "outputs": [],
   "source": [
    "# One hot encoding\n",
    "enc = OneHotEncoder()\n",
    "Y = enc.fit_transform(y[:, np.newaxis]).toarray()"
   ]
  },
  {
   "cell_type": "code",
   "execution_count": 4,
   "id": "c514e93d",
   "metadata": {},
   "outputs": [],
   "source": [
    "# Scale data to have mean 0 and variance 1\n",
    "scaler = StandardScaler()\n",
    "X_scaled = scaler.fit_transform(X)"
   ]
  },
  {
   "cell_type": "code",
   "execution_count": 5,
   "id": "fa618d6e",
   "metadata": {},
   "outputs": [],
   "source": [
    "# Split the data set into training and testing\n",
    "X_train, X_test, Y_train, Y_test = train_test_split(\n",
    "    X_scaled, Y, test_size=0.2, random_state=3)\n",
    "\n",
    "n_features = X.shape[1]\n",
    "n_classes = Y.shape[1]"
   ]
  },
  {
   "cell_type": "code",
   "execution_count": 6,
   "id": "833ba241",
   "metadata": {},
   "outputs": [
    {
     "data": {
      "image/png": "[encoded data removed]",
      "text/plain": [
       "<Figure size 1152x432 with 2 Axes>"
      ]
     },
     "metadata": {
      "needs_background": "light"
     },
     "output_type": "display_data"
    }
   ],
   "source": [
    "# Visualize the data sets\n",
    "plt.figure(figsize=(16, 6))\n",
    "plt.subplot(1, 2, 1)\n",
    "for target, target_name in enumerate(names):\n",
    "    X_plot = X[y == target]\n",
    "    plt.plot(X_plot[:, 0], X_plot[:, 1], linestyle='none', marker='o', label=target_name)\n",
    "plt.xlabel(feature_names[0])\n",
    "plt.ylabel(feature_names[1])\n",
    "plt.axis('equal')\n",
    "plt.legend();\n",
    "\n",
    "plt.subplot(1, 2, 2)\n",
    "for target, target_name in enumerate(names):\n",
    "    X_plot = X[y == target]\n",
    "    plt.plot(X_plot[:, 2], X_plot[:, 3], linestyle='none', marker='o', label=target_name)\n",
    "plt.xlabel(feature_names[2])\n",
    "plt.ylabel(feature_names[3])\n",
    "plt.axis('equal')\n",
    "plt.legend();"
   ]
  },
  {
   "cell_type": "code",
   "execution_count": 7,
   "id": "886ad17a",
   "metadata": {},
   "outputs": [],
   "source": [
    "initializer0 = keras.initializers.RandomUniform(minval=-0.003, maxval=0)\n",
    "initializer1 = keras.initializers.RandomUniform(minval=-0.003, maxval=0)\n",
    "\n",
    "class Adaact(keras.layers.Layer):\n",
    "    def __init__(self):\n",
    "        super(Adaact, self).__init__()\n",
    "        self.k0 = self.add_weight(name='k0', shape=(), initializer=initializer0, trainable=True)\n",
    "        self.k1 = self.add_weight(name='k1', shape=(), initializer=initializer1, trainable=True)\n",
    "        \n",
    "    def call(self, inputs):\n",
    "        return self.k0 + tf.multiply(inputs, self.k1)"
   ]
  },
  {
   "cell_type": "code",
   "execution_count": 8,
   "id": "53e49a8a",
   "metadata": {},
   "outputs": [
    {
     "name": "stdout",
     "output_type": "stream",
     "text": [
      "Model: \"sequential\"\n",
      "_________________________________________________________________\n",
      " Layer (type)                Output Shape              Param #   \n",
      "=================================================================\n",
      " dense (Dense)               (None, 25)                125       \n",
      "                                                                 \n",
      " adaact (Adaact)             (None, 25)                2         \n",
      "                                                                 \n",
      " dropout (Dropout)           (None, 25)                0         \n",
      "                                                                 \n",
      " dense_1 (Dense)             (None, 3)                 78        \n",
      "                                                                 \n",
      "=================================================================\n",
      "Total params: 205\n",
      "Trainable params: 205\n",
      "Non-trainable params: 0\n",
      "_________________________________________________________________\n"
     ]
    }
   ],
   "source": [
    "# Create the model with one hidden layer\n",
    "model = Sequential()\n",
    "model.add(layers.Dense(25, input_dim=n_features))\n",
    "adaact = Adaact()\n",
    "model.add(adaact)\n",
    "model.add(layers.Dropout(0.1))\n",
    "model.add(layers.Dense(n_classes, activation='softmax'))\n",
    "model.summary()"
   ]
  },
  {
   "cell_type": "code",
   "execution_count": 9,
   "id": "74e937e5",
   "metadata": {},
   "outputs": [
    {
     "name": "stderr",
     "output_type": "stream",
     "text": [
      "WARNING:absl:`lr` is deprecated in Keras optimizer, please use `learning_rate` or use the legacy optimizer, e.g.,tf.keras.optimizers.legacy.Adam.\n"
     ]
    },
    {
     "name": "stdout",
     "output_type": "stream",
     "text": [
      "Epoch 1/100\n",
      "20/20 [==============================] - 2s 26ms/step - loss: 1.0988 - accuracy: 0.3438 - val_loss: 1.0988 - val_accuracy: 0.5000\n",
      "Epoch 2/100\n",
      "20/20 [==============================] - 0s 8ms/step - loss: 1.0954 - accuracy: 0.5000 - val_loss: 1.0924 - val_accuracy: 0.5417\n",
      "Epoch 3/100\n",
      "20/20 [==============================] - 0s 7ms/step - loss: 1.0776 - accuracy: 0.7396 - val_loss: 1.0679 - val_accuracy: 0.8750\n",
      "Epoch 4/100\n",
      "20/20 [==============================] - 0s 8ms/step - loss: 1.0357 - accuracy: 0.8333 - val_loss: 1.0155 - val_accuracy: 0.9583\n",
      "Epoch 5/100\n",
      "20/20 [==============================] - 0s 7ms/step - loss: 0.9548 - accuracy: 0.8854 - val_loss: 0.9327 - val_accuracy: 0.9583\n",
      "Epoch 6/100\n",
      "20/20 [==============================] - 0s 7ms/step - loss: 0.8465 - accuracy: 0.8333 - val_loss: 0.8290 - val_accuracy: 0.9583\n",
      "Epoch 7/100\n",
      "20/20 [==============================] - 0s 8ms/step - loss: 0.7348 - accuracy: 0.8229 - val_loss: 0.7202 - val_accuracy: 0.9167\n",
      "Epoch 8/100\n",
      "20/20 [==============================] - 0s 7ms/step - loss: 0.6387 - accuracy: 0.8125 - val_loss: 0.6255 - val_accuracy: 0.9167\n",
      "Epoch 9/100\n",
      "20/20 [==============================] - 0s 7ms/step - loss: 0.5548 - accuracy: 0.7812 - val_loss: 0.5456 - val_accuracy: 0.9167\n",
      "Epoch 10/100\n",
      "20/20 [==============================] - 0s 7ms/step - loss: 0.5007 - accuracy: 0.8125 - val_loss: 0.4951 - val_accuracy: 0.9167\n",
      "Epoch 11/100\n",
      "20/20 [==============================] - 0s 6ms/step - loss: 0.4550 - accuracy: 0.8021 - val_loss: 0.4534 - val_accuracy: 0.8750\n",
      "Epoch 12/100\n",
      "20/20 [==============================] - 0s 7ms/step - loss: 0.4312 - accuracy: 0.8125 - val_loss: 0.4169 - val_accuracy: 0.8750\n",
      "Epoch 13/100\n",
      "20/20 [==============================] - 0s 7ms/step - loss: 0.4125 - accuracy: 0.8125 - val_loss: 0.3891 - val_accuracy: 0.9167\n",
      "Epoch 14/100\n",
      "20/20 [==============================] - 0s 7ms/step - loss: 0.3906 - accuracy: 0.8438 - val_loss: 0.3623 - val_accuracy: 0.8750\n",
      "Epoch 15/100\n",
      "20/20 [==============================] - 0s 9ms/step - loss: 0.3700 - accuracy: 0.8333 - val_loss: 0.3468 - val_accuracy: 0.9167\n",
      "Epoch 16/100\n",
      "20/20 [==============================] - 0s 7ms/step - loss: 0.3556 - accuracy: 0.8542 - val_loss: 0.3315 - val_accuracy: 0.9167\n",
      "Epoch 17/100\n",
      "20/20 [==============================] - 0s 7ms/step - loss: 0.3317 - accuracy: 0.9062 - val_loss: 0.3201 - val_accuracy: 0.9167\n",
      "Epoch 18/100\n",
      "20/20 [==============================] - 0s 8ms/step - loss: 0.3192 - accuracy: 0.8854 - val_loss: 0.2952 - val_accuracy: 0.9167\n",
      "Epoch 19/100\n",
      "20/20 [==============================] - 0s 8ms/step - loss: 0.3100 - accuracy: 0.8958 - val_loss: 0.2856 - val_accuracy: 0.9167\n",
      "Epoch 20/100\n",
      "20/20 [==============================] - 0s 7ms/step - loss: 0.2924 - accuracy: 0.9167 - val_loss: 0.2760 - val_accuracy: 0.9167\n",
      "Epoch 21/100\n",
      "20/20 [==============================] - 0s 7ms/step - loss: 0.2657 - accuracy: 0.9271 - val_loss: 0.2757 - val_accuracy: 0.9167\n",
      "Epoch 22/100\n",
      "20/20 [==============================] - 0s 8ms/step - loss: 0.2598 - accuracy: 0.8958 - val_loss: 0.2715 - val_accuracy: 0.9167\n",
      "Epoch 23/100\n",
      "20/20 [==============================] - 0s 8ms/step - loss: 0.2460 - accuracy: 0.9479 - val_loss: 0.2666 - val_accuracy: 0.9167\n",
      "Epoch 24/100\n",
      "20/20 [==============================] - 0s 7ms/step - loss: 0.2429 - accuracy: 0.9375 - val_loss: 0.2529 - val_accuracy: 0.9167\n",
      "Epoch 25/100\n",
      "20/20 [==============================] - 0s 7ms/step - loss: 0.2237 - accuracy: 0.9375 - val_loss: 0.2263 - val_accuracy: 0.9167\n",
      "Epoch 26/100\n",
      "20/20 [==============================] - 0s 8ms/step - loss: 0.2075 - accuracy: 0.9375 - val_loss: 0.2217 - val_accuracy: 0.9167\n",
      "Epoch 27/100\n",
      "20/20 [==============================] - 0s 7ms/step - loss: 0.2060 - accuracy: 0.9375 - val_loss: 0.2230 - val_accuracy: 0.9167\n",
      "Epoch 28/100\n",
      "20/20 [==============================] - 0s 8ms/step - loss: 0.1889 - accuracy: 0.9583 - val_loss: 0.2208 - val_accuracy: 0.9167\n",
      "Epoch 29/100\n",
      "20/20 [==============================] - 0s 8ms/step - loss: 0.1840 - accuracy: 0.9688 - val_loss: 0.2106 - val_accuracy: 0.9167\n",
      "Epoch 30/100\n",
      "20/20 [==============================] - 0s 7ms/step - loss: 0.1844 - accuracy: 0.9583 - val_loss: 0.2116 - val_accuracy: 0.9167\n",
      "Epoch 31/100\n",
      "20/20 [==============================] - 0s 8ms/step - loss: 0.1768 - accuracy: 0.9375 - val_loss: 0.1997 - val_accuracy: 0.9167\n",
      "Epoch 32/100\n",
      "20/20 [==============================] - 0s 8ms/step - loss: 0.1655 - accuracy: 0.9479 - val_loss: 0.2126 - val_accuracy: 0.9167\n",
      "Epoch 33/100\n",
      "20/20 [==============================] - 0s 8ms/step - loss: 0.1528 - accuracy: 0.9688 - val_loss: 0.2005 - val_accuracy: 0.9167\n",
      "Epoch 34/100\n",
      "20/20 [==============================] - 0s 8ms/step - loss: 0.1428 - accuracy: 0.9792 - val_loss: 0.2056 - val_accuracy: 0.9167\n",
      "Epoch 35/100\n",
      "20/20 [==============================] - 0s 8ms/step - loss: 0.1507 - accuracy: 0.9688 - val_loss: 0.2010 - val_accuracy: 0.9167\n",
      "Epoch 36/100\n",
      "20/20 [==============================] - 0s 8ms/step - loss: 0.1442 - accuracy: 0.9479 - val_loss: 0.1747 - val_accuracy: 0.9167\n",
      "Epoch 37/100\n",
      "20/20 [==============================] - 0s 8ms/step - loss: 0.1346 - accuracy: 0.9688 - val_loss: 0.1868 - val_accuracy: 0.9167\n",
      "Epoch 38/100\n",
      "20/20 [==============================] - 0s 8ms/step - loss: 0.1169 - accuracy: 0.9792 - val_loss: 0.1738 - val_accuracy: 0.9167\n",
      "Epoch 39/100\n",
      "20/20 [==============================] - 0s 9ms/step - loss: 0.1185 - accuracy: 0.9792 - val_loss: 0.1803 - val_accuracy: 0.9167\n",
      "Epoch 40/100\n",
      "20/20 [==============================] - 0s 9ms/step - loss: 0.1393 - accuracy: 0.9688 - val_loss: 0.1714 - val_accuracy: 0.9167\n",
      "Epoch 41/100\n",
      "20/20 [==============================] - 0s 6ms/step - loss: 0.1048 - accuracy: 0.9792 - val_loss: 0.1736 - val_accuracy: 0.9167\n",
      "Epoch 42/100\n",
      "20/20 [==============================] - 0s 6ms/step - loss: 0.1168 - accuracy: 0.9688 - val_loss: 0.1656 - val_accuracy: 0.9167\n",
      "Epoch 43/100\n",
      "20/20 [==============================] - 0s 8ms/step - loss: 0.1164 - accuracy: 0.9792 - val_loss: 0.1555 - val_accuracy: 0.9167\n",
      "Epoch 44/100\n",
      "20/20 [==============================] - 0s 6ms/step - loss: 0.0962 - accuracy: 0.9792 - val_loss: 0.1502 - val_accuracy: 0.9167\n",
      "Epoch 45/100\n",
      "20/20 [==============================] - 0s 7ms/step - loss: 0.1106 - accuracy: 0.9479 - val_loss: 0.1444 - val_accuracy: 0.9167\n",
      "Epoch 46/100\n",
      "20/20 [==============================] - 0s 7ms/step - loss: 0.1008 - accuracy: 0.9688 - val_loss: 0.1555 - val_accuracy: 0.9167\n",
      "Epoch 47/100\n",
      "20/20 [==============================] - 0s 7ms/step - loss: 0.0902 - accuracy: 0.9792 - val_loss: 0.1556 - val_accuracy: 0.9167\n",
      "Epoch 48/100\n",
      "20/20 [==============================] - 0s 7ms/step - loss: 0.1034 - accuracy: 0.9583 - val_loss: 0.1398 - val_accuracy: 0.9167\n",
      "Epoch 49/100\n",
      "20/20 [==============================] - 0s 8ms/step - loss: 0.0853 - accuracy: 0.9688 - val_loss: 0.1495 - val_accuracy: 0.9167\n",
      "Epoch 50/100\n",
      "20/20 [==============================] - 0s 7ms/step - loss: 0.0774 - accuracy: 0.9792 - val_loss: 0.1414 - val_accuracy: 0.9167\n",
      "Epoch 51/100\n",
      "20/20 [==============================] - 0s 8ms/step - loss: 0.0878 - accuracy: 0.9792 - val_loss: 0.1454 - val_accuracy: 0.9167\n",
      "Epoch 52/100\n",
      "20/20 [==============================] - 0s 8ms/step - loss: 0.0807 - accuracy: 0.9792 - val_loss: 0.1428 - val_accuracy: 0.9167\n",
      "Epoch 53/100\n",
      "20/20 [==============================] - 0s 7ms/step - loss: 0.0971 - accuracy: 0.9688 - val_loss: 0.1238 - val_accuracy: 0.9583\n",
      "Epoch 54/100\n",
      "20/20 [==============================] - 0s 8ms/step - loss: 0.0824 - accuracy: 0.9792 - val_loss: 0.1378 - val_accuracy: 0.9167\n",
      "Epoch 55/100\n",
      "20/20 [==============================] - 0s 7ms/step - loss: 0.0838 - accuracy: 0.9896 - val_loss: 0.1447 - val_accuracy: 0.9167\n",
      "Epoch 56/100\n",
      "20/20 [==============================] - 0s 7ms/step - loss: 0.0692 - accuracy: 0.9792 - val_loss: 0.1537 - val_accuracy: 0.9167\n",
      "Epoch 57/100\n",
      "20/20 [==============================] - 0s 8ms/step - loss: 0.0823 - accuracy: 0.9792 - val_loss: 0.1333 - val_accuracy: 0.9167\n",
      "Epoch 58/100\n",
      "20/20 [==============================] - 0s 8ms/step - loss: 0.0926 - accuracy: 0.9479 - val_loss: 0.0876 - val_accuracy: 0.9583\n",
      "Epoch 59/100\n",
      "20/20 [==============================] - 0s 6ms/step - loss: 0.0938 - accuracy: 0.9479 - val_loss: 0.1207 - val_accuracy: 0.9583\n",
      "Epoch 60/100\n",
      "20/20 [==============================] - 0s 9ms/step - loss: 0.0727 - accuracy: 0.9688 - val_loss: 0.1166 - val_accuracy: 0.9583\n",
      "Epoch 61/100\n",
      "20/20 [==============================] - 0s 7ms/step - loss: 0.0788 - accuracy: 0.9688 - val_loss: 0.1276 - val_accuracy: 0.9167\n",
      "Epoch 62/100\n",
      "20/20 [==============================] - 0s 10ms/step - loss: 0.0744 - accuracy: 0.9688 - val_loss: 0.1276 - val_accuracy: 0.9167\n",
      "Epoch 63/100\n",
      "20/20 [==============================] - 0s 8ms/step - loss: 0.0858 - accuracy: 0.9688 - val_loss: 0.1174 - val_accuracy: 0.9583\n",
      "Epoch 64/100\n",
      "20/20 [==============================] - 0s 7ms/step - loss: 0.0714 - accuracy: 0.9792 - val_loss: 0.1142 - val_accuracy: 0.9583\n",
      "Epoch 65/100\n",
      "20/20 [==============================] - 0s 7ms/step - loss: 0.0836 - accuracy: 0.9688 - val_loss: 0.1108 - val_accuracy: 0.9583\n",
      "Epoch 66/100\n",
      "20/20 [==============================] - 0s 8ms/step - loss: 0.0827 - accuracy: 0.9688 - val_loss: 0.1061 - val_accuracy: 0.9583\n",
      "Epoch 67/100\n",
      "20/20 [==============================] - 0s 6ms/step - loss: 0.0740 - accuracy: 0.9792 - val_loss: 0.1666 - val_accuracy: 0.8750\n",
      "Epoch 68/100\n",
      "20/20 [==============================] - 0s 9ms/step - loss: 0.0843 - accuracy: 0.9688 - val_loss: 0.1402 - val_accuracy: 0.9167\n",
      "Epoch 69/100\n",
      "20/20 [==============================] - 0s 7ms/step - loss: 0.0590 - accuracy: 0.9896 - val_loss: 0.1328 - val_accuracy: 0.9167\n",
      "Epoch 70/100\n",
      "20/20 [==============================] - 0s 9ms/step - loss: 0.0763 - accuracy: 0.9792 - val_loss: 0.1140 - val_accuracy: 0.9583\n",
      "Epoch 71/100\n",
      "20/20 [==============================] - 0s 7ms/step - loss: 0.0729 - accuracy: 0.9688 - val_loss: 0.1295 - val_accuracy: 0.9167\n",
      "Epoch 72/100\n",
      "20/20 [==============================] - 0s 7ms/step - loss: 0.0583 - accuracy: 0.9896 - val_loss: 0.1266 - val_accuracy: 0.9167\n",
      "Epoch 73/100\n",
      "20/20 [==============================] - 0s 8ms/step - loss: 0.0814 - accuracy: 0.9583 - val_loss: 0.1175 - val_accuracy: 0.9583\n",
      "Epoch 74/100\n",
      "20/20 [==============================] - 0s 8ms/step - loss: 0.0805 - accuracy: 0.9688 - val_loss: 0.1176 - val_accuracy: 0.9167\n",
      "Epoch 75/100\n",
      "20/20 [==============================] - 0s 7ms/step - loss: 0.0685 - accuracy: 0.9792 - val_loss: 0.1252 - val_accuracy: 0.9167\n",
      "Epoch 76/100\n",
      "20/20 [==============================] - 0s 9ms/step - loss: 0.0643 - accuracy: 0.9688 - val_loss: 0.1189 - val_accuracy: 0.9167\n",
      "Epoch 77/100\n",
      "20/20 [==============================] - 0s 7ms/step - loss: 0.0575 - accuracy: 0.9688 - val_loss: 0.1313 - val_accuracy: 0.9167\n",
      "Epoch 78/100\n",
      "20/20 [==============================] - 0s 8ms/step - loss: 0.0683 - accuracy: 0.9688 - val_loss: 0.1151 - val_accuracy: 0.9583\n",
      "Epoch 79/100\n",
      "20/20 [==============================] - 0s 7ms/step - loss: 0.0705 - accuracy: 0.9792 - val_loss: 0.1029 - val_accuracy: 0.9583\n",
      "Epoch 80/100\n",
      "20/20 [==============================] - 0s 7ms/step - loss: 0.0678 - accuracy: 0.9688 - val_loss: 0.1043 - val_accuracy: 0.9583\n",
      "Epoch 81/100\n",
      "20/20 [==============================] - 0s 8ms/step - loss: 0.0645 - accuracy: 0.9583 - val_loss: 0.1180 - val_accuracy: 0.9583\n",
      "Epoch 82/100\n",
      "20/20 [==============================] - 0s 8ms/step - loss: 0.0611 - accuracy: 0.9792 - val_loss: 0.1178 - val_accuracy: 0.9583\n",
      "Epoch 83/100\n",
      "20/20 [==============================] - 0s 7ms/step - loss: 0.0494 - accuracy: 0.9896 - val_loss: 0.1059 - val_accuracy: 0.9583\n",
      "Epoch 84/100\n",
      "20/20 [==============================] - 0s 6ms/step - loss: 0.0712 - accuracy: 0.9792 - val_loss: 0.0998 - val_accuracy: 0.9583\n",
      "Epoch 85/100\n",
      "20/20 [==============================] - 0s 8ms/step - loss: 0.0696 - accuracy: 0.9583 - val_loss: 0.1056 - val_accuracy: 0.9583\n",
      "Epoch 86/100\n",
      "20/20 [==============================] - 0s 8ms/step - loss: 0.0639 - accuracy: 0.9792 - val_loss: 0.0992 - val_accuracy: 0.9583\n",
      "Epoch 87/100\n",
      "20/20 [==============================] - 0s 8ms/step - loss: 0.0596 - accuracy: 0.9792 - val_loss: 0.1069 - val_accuracy: 0.9583\n",
      "Epoch 88/100\n",
      "20/20 [==============================] - 0s 9ms/step - loss: 0.0643 - accuracy: 0.9583 - val_loss: 0.1029 - val_accuracy: 0.9583\n",
      "Epoch 89/100\n",
      "20/20 [==============================] - 0s 7ms/step - loss: 0.0599 - accuracy: 0.9792 - val_loss: 0.1696 - val_accuracy: 0.8750\n",
      "Epoch 90/100\n",
      "20/20 [==============================] - 0s 7ms/step - loss: 0.0819 - accuracy: 0.9688 - val_loss: 0.1395 - val_accuracy: 0.9167\n",
      "Epoch 91/100\n",
      "20/20 [==============================] - 0s 7ms/step - loss: 0.0555 - accuracy: 0.9792 - val_loss: 0.1322 - val_accuracy: 0.9167\n",
      "Epoch 92/100\n",
      "20/20 [==============================] - 0s 7ms/step - loss: 0.0647 - accuracy: 0.9792 - val_loss: 0.1075 - val_accuracy: 0.9583\n",
      "Epoch 93/100\n",
      "20/20 [==============================] - 0s 7ms/step - loss: 0.0673 - accuracy: 0.9583 - val_loss: 0.1161 - val_accuracy: 0.9583\n",
      "Epoch 94/100\n",
      "20/20 [==============================] - 0s 7ms/step - loss: 0.0479 - accuracy: 0.9792 - val_loss: 0.1240 - val_accuracy: 0.9583\n",
      "Epoch 95/100\n",
      "20/20 [==============================] - 0s 7ms/step - loss: 0.0606 - accuracy: 0.9792 - val_loss: 0.1087 - val_accuracy: 0.9583\n",
      "Epoch 96/100\n",
      "20/20 [==============================] - 0s 7ms/step - loss: 0.0677 - accuracy: 0.9688 - val_loss: 0.0981 - val_accuracy: 0.9583\n",
      "Epoch 97/100\n",
      "20/20 [==============================] - 0s 6ms/step - loss: 0.0745 - accuracy: 0.9583 - val_loss: 0.0861 - val_accuracy: 0.9583\n",
      "Epoch 98/100\n",
      "20/20 [==============================] - 0s 7ms/step - loss: 0.0706 - accuracy: 0.9583 - val_loss: 0.1764 - val_accuracy: 0.8750\n",
      "Epoch 99/100\n",
      "20/20 [==============================] - 0s 7ms/step - loss: 0.0662 - accuracy: 0.9688 - val_loss: 0.1488 - val_accuracy: 0.8750\n",
      "Epoch 100/100\n",
      "20/20 [==============================] - 0s 7ms/step - loss: 0.0605 - accuracy: 0.9896 - val_loss: 0.1265 - val_accuracy: 0.9167\n"
     ]
    }
   ],
   "source": [
    "batch_size = 5\n",
    "epochs = 100\n",
    "\n",
    "model.compile(loss=\"categorical_crossentropy\", optimizer=keras.optimizers.Adam(lr=0.001), metrics=[\"accuracy\"])\n",
    "\n",
    "history=model.fit(X_train, Y_train, batch_size=batch_size, epochs=epochs, validation_split=0.2, verbose=1)"
   ]
  },
  {
   "cell_type": "code",
   "execution_count": 11,
   "id": "6b5d988c",
   "metadata": {},
   "outputs": [
    {
     "name": "stdout",
     "output_type": "stream",
     "text": [
      "AF coefficients (weights) [0.3307859, 0.59671104]\n"
     ]
    }
   ],
   "source": [
    "print(\"AF coefficients (weights) {}\".format(adaact.get_weights()))"
   ]
  },
  {
   "cell_type": "code",
   "execution_count": 12,
   "id": "4aaed7f8",
   "metadata": {},
   "outputs": [
    {
     "name": "stdout",
     "output_type": "stream",
     "text": [
      "Test loss: 0.05791618674993515\n",
      "Test accuracy: 0.9666666388511658\n"
     ]
    }
   ],
   "source": [
    "# Obtain test loss and test accuracy\n",
    "score = model.evaluate(X_test, Y_test, verbose=0)\n",
    "print(\"Test loss:\", score[0])\n",
    "print(\"Test accuracy:\", score[1])"
   ]
  },
  {
   "cell_type": "code",
   "execution_count": 13,
   "id": "84c8711a",
   "metadata": {},
   "outputs": [
    {
     "name": "stdout",
     "output_type": "stream",
     "text": [
      "train loss: 0.06885997205972672\n",
      "train accuracy: 0.9750000238418579\n"
     ]
    }
   ],
   "source": [
    "# Obtain train loss and train accuracy\n",
    "score = model.evaluate(X_train, Y_train, verbose=0)\n",
    "print(\"train loss:\", score[0])\n",
    "print(\"train accuracy:\", score[1])"
   ]
  },
  {
   "cell_type": "code",
   "execution_count": 14,
   "id": "260f0418",
   "metadata": {},
   "outputs": [
    {
     "name": "stdout",
     "output_type": "stream",
     "text": [
      "1/1 [==============================] - 0s 165ms/step\n"
     ]
    }
   ],
   "source": [
    "# Evaluate the model on the test set\n",
    "y_pred = model.predict(X_test)\n",
    "y_pred = np.argmax(y_pred, axis=1)\n",
    "y_true = np.argmax(Y_test, axis=1)"
   ]
  },
  {
   "cell_type": "code",
   "execution_count": 15,
   "id": "ff29fa89",
   "metadata": {},
   "outputs": [
    {
     "name": "stdout",
     "output_type": "stream",
     "text": [
      "f1 score is 0.9665831244778613\n"
     ]
    }
   ],
   "source": [
    "# Compute the F1-score\n",
    "f1 = f1_score(y_true, y_pred, average='weighted')\n",
    "print(\"f1 score is {}\".format(f1))"
   ]
  },
  {
   "cell_type": "code",
   "execution_count": 16,
   "id": "5a30fba5",
   "metadata": {},
   "outputs": [
    {
     "data": {
      "image/png": "[encoded data removed]",
      "text/plain": [
       "<Figure size 432x288 with 1 Axes>"
      ]
     },
     "metadata": {
      "needs_background": "light"
     },
     "output_type": "display_data"
    }
   ],
   "source": [
    "# Plot the loss function vs. epochs\n",
    "train_loss = history.history['loss']\n",
    "test_loss = history.history['val_loss']\n",
    "plt.plot(range(1, epochs+1), train_loss, label='Train Loss')\n",
    "plt.plot(range(1, epochs+1), test_loss, label='Test Loss')\n",
    "plt.xlabel('Epochs')\n",
    "plt.ylabel('Loss')\n",
    "plt.title('Loss Function vs. Epochs')\n",
    "plt.legend()\n",
    "plt.show()"
   ]
  },
  {
   "cell_type": "code",
   "execution_count": null,
   "id": "c921f253",
   "metadata": {},
   "outputs": [],
   "source": []
  }
 ],
 "metadata": {
  "kernelspec": {
   "display_name": "Python 3 (ipykernel)",
   "language": "python",
   "name": "python3"
  },
  "language_info": {
   "codemirror_mode": {
    "name": "ipython",
    "version": 3
   },
   "file_extension": ".py",
   "mimetype": "text/x-python",
   "name": "python",
   "nbconvert_exporter": "python",
   "pygments_lexer": "ipython3",
   "version": "3.9.12"
  }
 },
 "nbformat": 4,
 "nbformat_minor": 5
}
