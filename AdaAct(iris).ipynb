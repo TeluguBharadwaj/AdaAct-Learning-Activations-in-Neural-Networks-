{
 "cells": [
  {
   "cell_type": "code",
   "execution_count": 1,
   "id": "f93b3dd7",
   "metadata": {},
   "outputs": [],
   "source": [
    "import numpy as np\n",
    "import pandas as pd\n",
    "import pickle\n",
    "import tensorflow as tf\n",
    "from tensorflow import keras\n",
    "from tensorflow.keras import layers\n",
    "import matplotlib.pyplot as plt\n",
    "from tensorflow.keras.models import Sequential\n",
    "from sklearn.metrics import f1_score\n",
    "from sklearn.datasets import load_iris\n",
    "from sklearn.model_selection import train_test_split\n",
    "from sklearn.preprocessing import OneHotEncoder, StandardScaler"
   ]
  },
  {
   "cell_type": "code",
   "execution_count": 2,
   "id": "c6bdded0",
   "metadata": {},
   "outputs": [],
   "source": [
    "#Loading the iris dataset\n",
    "iris = load_iris()\n",
    "X = iris['data']\n",
    "y = iris['target']\n",
    "names = iris['target_names']\n",
    "feature_names = iris['feature_names']"
   ]
  },
  {
   "cell_type": "code",
   "execution_count": 3,
   "id": "7a86b521",
   "metadata": {},
   "outputs": [],
   "source": [
    "# One hot encoding\n",
    "enc = OneHotEncoder()\n",
    "Y = enc.fit_transform(y[:, np.newaxis]).toarray()"
   ]
  },
  {
   "cell_type": "code",
   "execution_count": 4,
   "id": "c514e93d",
   "metadata": {},
   "outputs": [],
   "source": [
    "# Scale data to have mean 0 and variance 1\n",
    "scaler = StandardScaler()\n",
    "X_scaled = scaler.fit_transform(X)"
   ]
  },
  {
   "cell_type": "code",
   "execution_count": 5,
   "id": "fa618d6e",
   "metadata": {},
   "outputs": [],
   "source": [
    "# Split the data set into training and testing\n",
    "X_train, X_test, Y_train, Y_test = train_test_split(\n",
    "    X_scaled, Y, test_size=0.2, random_state=3)\n",
    "\n",
    "n_features = X.shape[1]\n",
    "n_classes = Y.shape[1]"
   ]
  },
  {
   "cell_type": "code",
   "execution_count": 6,
   "id": "833ba241",
   "metadata": {},
   "outputs": [
    {
     "data": {
      "image/png": "[encoded data removed]",
      "text/plain": [
       "<Figure size 1152x432 with 2 Axes>"
      ]
     },
     "metadata": {
      "needs_background": "light"
     },
     "output_type": "display_data"
    }
   ],
   "source": [
    "# Visualize the data sets\n",
    "plt.figure(figsize=(16, 6))\n",
    "plt.subplot(1, 2, 1)\n",
    "for target, target_name in enumerate(names):\n",
    "    X_plot = X[y == target]\n",
    "    plt.plot(X_plot[:, 0], X_plot[:, 1], linestyle='none', marker='o', label=target_name)\n",
    "plt.xlabel(feature_names[0])\n",
    "plt.ylabel(feature_names[1])\n",
    "plt.axis('equal')\n",
    "plt.legend();\n",
    "\n",
    "plt.subplot(1, 2, 2)\n",
    "for target, target_name in enumerate(names):\n",
    "    X_plot = X[y == target]\n",
    "    plt.plot(X_plot[:, 2], X_plot[:, 3], linestyle='none', marker='o', label=target_name)\n",
    "plt.xlabel(feature_names[2])\n",
    "plt.ylabel(feature_names[3])\n",
    "plt.axis('equal')\n",
    "plt.legend();"
   ]
  },
  {
   "cell_type": "code",
   "execution_count": 7,
   "id": "886ad17a",
   "metadata": {},
   "outputs": [],
   "source": [
    "initializer0 = keras.initializers.RandomUniform(minval=-0.003, maxval=0)\n",
    "initializer1 = keras.initializers.RandomUniform(minval=-0.003, maxval=0)\n",
    "\n",
    "class Adaact(keras.layers.Layer):\n",
    "    def __init__(self):\n",
    "        super(Adaact, self).__init__()\n",
    "        self.k0 = self.add_weight(name='k0', shape=(), initializer=initializer0, trainable=True)\n",
    "        self.k1 = self.add_weight(name='k1', shape=(), initializer=initializer1, trainable=True)\n",
    "        \n",
    "    def call(self, inputs):\n",
    "        return self.k0 + tf.multiply(inputs, self.k1)"
   ]
  },
  {
   "cell_type": "code",
   "execution_count": 8,
   "id": "53e49a8a",
   "metadata": {},
   "outputs": [
    {
     "name": "stdout",
     "output_type": "stream",
     "text": [
      "Model: \"sequential\"\n",
      "_________________________________________________________________\n",
      " Layer (type)                Output Shape              Param #   \n",
      "=================================================================\n",
      " dense (Dense)               (None, 25)                125       \n",
      "                                                                 \n",
      " adaact (Adaact)             (None, 25)                2         \n",
      "                                                                 \n",
      " dropout (Dropout)           (None, 25)                0         \n",
      "                                                                 \n",
      " dense_1 (Dense)             (None, 3)                 78        \n",
      "                                                                 \n",
      "=================================================================\n",
      "Total params: 205\n",
      "Trainable params: 205\n",
      "Non-trainable params: 0\n",
      "_________________________________________________________________\n"
     ]
    }
   ],
   "source": [
    "# Create the model with one hidden layer\n",
    "model = Sequential()\n",
    "model.add(layers.Dense(25, input_dim=n_features))\n",
    "adaact = Adaact()\n",
    "model.add(adaact)\n",
    "model.add(layers.Dropout(0.1))\n",
    "model.add(layers.Dense(n_classes, activation='softmax'))\n",
    "model.summary()"
   ]
  },
  {
   "cell_type": "code",
   "execution_count": 9,
   "id": "74e937e5",
   "metadata": {},
   "outputs": [
    {
     "name": "stderr",
     "output_type": "stream",
     "text": [
      "WARNING:absl:`lr` is deprecated in Keras optimizer, please use `learning_rate` or use the legacy optimizer, e.g.,tf.keras.optimizers.legacy.Adam.\n"
     ]
    },
    {
     "name": "stdout",
     "output_type": "stream",
     "text": [
      "Epoch 1/100\n",
      "20/20 [==============================] - 8s 87ms/step - loss: 1.0953 - accuracy: 0.5833 - val_loss: 1.0896 - val_accuracy: 0.6667\n",
      "Epoch 2/100\n",
      "20/20 [==============================] - 0s 18ms/step - loss: 1.0788 - accuracy: 0.6875 - val_loss: 1.0665 - val_accuracy: 0.6667\n",
      "Epoch 3/100\n",
      "20/20 [==============================] - 0s 20ms/step - loss: 1.0409 - accuracy: 0.7083 - val_loss: 1.0224 - val_accuracy: 0.7083\n",
      "Epoch 4/100\n",
      "20/20 [==============================] - 0s 18ms/step - loss: 0.9813 - accuracy: 0.7083 - val_loss: 0.9578 - val_accuracy: 0.7083\n",
      "Epoch 5/100\n",
      "20/20 [==============================] - 0s 15ms/step - loss: 0.8960 - accuracy: 0.7500 - val_loss: 0.8706 - val_accuracy: 0.7917\n",
      "Epoch 6/100\n",
      "20/20 [==============================] - 0s 17ms/step - loss: 0.7905 - accuracy: 0.8021 - val_loss: 0.7769 - val_accuracy: 0.8333\n",
      "Epoch 7/100\n",
      "20/20 [==============================] - 0s 17ms/step - loss: 0.6991 - accuracy: 0.8438 - val_loss: 0.6843 - val_accuracy: 0.8750\n",
      "Epoch 8/100\n",
      "20/20 [==============================] - 0s 16ms/step - loss: 0.6022 - accuracy: 0.8333 - val_loss: 0.6055 - val_accuracy: 0.8750\n",
      "Epoch 9/100\n",
      "20/20 [==============================] - 0s 16ms/step - loss: 0.5449 - accuracy: 0.8333 - val_loss: 0.5386 - val_accuracy: 0.8750\n",
      "Epoch 10/100\n",
      "20/20 [==============================] - 0s 16ms/step - loss: 0.4962 - accuracy: 0.8125 - val_loss: 0.4884 - val_accuracy: 0.8750\n",
      "Epoch 11/100\n",
      "20/20 [==============================] - 0s 19ms/step - loss: 0.4651 - accuracy: 0.8333 - val_loss: 0.4501 - val_accuracy: 0.8750\n",
      "Epoch 12/100\n",
      "20/20 [==============================] - 0s 18ms/step - loss: 0.4281 - accuracy: 0.8542 - val_loss: 0.4106 - val_accuracy: 0.8750\n",
      "Epoch 13/100\n",
      "20/20 [==============================] - 0s 18ms/step - loss: 0.4092 - accuracy: 0.8646 - val_loss: 0.3819 - val_accuracy: 0.8750\n",
      "Epoch 14/100\n",
      "20/20 [==============================] - 0s 18ms/step - loss: 0.3928 - accuracy: 0.8333 - val_loss: 0.3608 - val_accuracy: 0.8750\n",
      "Epoch 15/100\n",
      "20/20 [==============================] - 0s 15ms/step - loss: 0.3785 - accuracy: 0.8333 - val_loss: 0.3493 - val_accuracy: 0.8750\n",
      "Epoch 16/100\n",
      "20/20 [==============================] - 0s 16ms/step - loss: 0.3718 - accuracy: 0.8542 - val_loss: 0.3331 - val_accuracy: 0.8750\n",
      "Epoch 17/100\n",
      "20/20 [==============================] - 0s 17ms/step - loss: 0.3465 - accuracy: 0.8438 - val_loss: 0.3184 - val_accuracy: 0.9167\n",
      "Epoch 18/100\n",
      "20/20 [==============================] - 0s 14ms/step - loss: 0.3442 - accuracy: 0.8854 - val_loss: 0.3124 - val_accuracy: 0.9167\n",
      "Epoch 19/100\n",
      "20/20 [==============================] - 0s 19ms/step - loss: 0.3307 - accuracy: 0.8854 - val_loss: 0.2955 - val_accuracy: 0.9167\n",
      "Epoch 20/100\n",
      "20/20 [==============================] - 0s 17ms/step - loss: 0.3165 - accuracy: 0.8958 - val_loss: 0.2976 - val_accuracy: 0.9167\n",
      "Epoch 21/100\n",
      "20/20 [==============================] - 0s 18ms/step - loss: 0.3025 - accuracy: 0.8646 - val_loss: 0.2840 - val_accuracy: 0.9167\n",
      "Epoch 22/100\n",
      "20/20 [==============================] - 0s 15ms/step - loss: 0.2926 - accuracy: 0.9062 - val_loss: 0.2769 - val_accuracy: 0.9167\n",
      "Epoch 23/100\n",
      "20/20 [==============================] - 0s 14ms/step - loss: 0.2898 - accuracy: 0.8958 - val_loss: 0.2831 - val_accuracy: 0.9167\n",
      "Epoch 24/100\n",
      "20/20 [==============================] - 0s 14ms/step - loss: 0.2713 - accuracy: 0.8854 - val_loss: 0.2798 - val_accuracy: 0.9167\n",
      "Epoch 25/100\n",
      "20/20 [==============================] - 0s 16ms/step - loss: 0.2527 - accuracy: 0.8958 - val_loss: 0.2742 - val_accuracy: 0.9167\n",
      "Epoch 26/100\n",
      "20/20 [==============================] - 0s 20ms/step - loss: 0.2460 - accuracy: 0.8854 - val_loss: 0.2729 - val_accuracy: 0.9167\n",
      "Epoch 27/100\n",
      "20/20 [==============================] - 0s 12ms/step - loss: 0.2370 - accuracy: 0.9167 - val_loss: 0.2596 - val_accuracy: 0.9167\n",
      "Epoch 28/100\n",
      "20/20 [==============================] - 0s 19ms/step - loss: 0.2220 - accuracy: 0.9167 - val_loss: 0.2474 - val_accuracy: 0.9167\n",
      "Epoch 29/100\n",
      "20/20 [==============================] - 0s 15ms/step - loss: 0.2257 - accuracy: 0.9062 - val_loss: 0.2575 - val_accuracy: 0.9167\n",
      "Epoch 30/100\n",
      "20/20 [==============================] - 0s 16ms/step - loss: 0.2146 - accuracy: 0.9271 - val_loss: 0.2399 - val_accuracy: 0.9167\n",
      "Epoch 31/100\n",
      "20/20 [==============================] - 0s 14ms/step - loss: 0.2076 - accuracy: 0.9271 - val_loss: 0.2441 - val_accuracy: 0.9167\n",
      "Epoch 32/100\n",
      "20/20 [==============================] - 0s 17ms/step - loss: 0.2047 - accuracy: 0.9375 - val_loss: 0.2360 - val_accuracy: 0.9167\n",
      "Epoch 33/100\n",
      "20/20 [==============================] - 0s 17ms/step - loss: 0.1853 - accuracy: 0.9271 - val_loss: 0.2299 - val_accuracy: 0.9167\n",
      "Epoch 34/100\n",
      "20/20 [==============================] - 0s 18ms/step - loss: 0.1830 - accuracy: 0.9479 - val_loss: 0.2245 - val_accuracy: 0.9167\n",
      "Epoch 35/100\n",
      "20/20 [==============================] - 0s 16ms/step - loss: 0.1791 - accuracy: 0.9375 - val_loss: 0.2298 - val_accuracy: 0.9167\n",
      "Epoch 36/100\n",
      "20/20 [==============================] - 0s 17ms/step - loss: 0.1628 - accuracy: 0.9583 - val_loss: 0.2383 - val_accuracy: 0.9167\n",
      "Epoch 37/100\n",
      "20/20 [==============================] - 0s 19ms/step - loss: 0.1556 - accuracy: 0.9688 - val_loss: 0.2184 - val_accuracy: 0.9167\n",
      "Epoch 38/100\n",
      "20/20 [==============================] - 0s 12ms/step - loss: 0.1519 - accuracy: 0.9792 - val_loss: 0.2143 - val_accuracy: 0.9167\n",
      "Epoch 39/100\n",
      "20/20 [==============================] - 0s 15ms/step - loss: 0.1423 - accuracy: 0.9688 - val_loss: 0.2089 - val_accuracy: 0.9167\n",
      "Epoch 40/100\n",
      "20/20 [==============================] - 0s 16ms/step - loss: 0.1540 - accuracy: 0.9479 - val_loss: 0.1965 - val_accuracy: 0.9167\n",
      "Epoch 41/100\n",
      "20/20 [==============================] - 0s 21ms/step - loss: 0.1390 - accuracy: 0.9792 - val_loss: 0.2075 - val_accuracy: 0.9167\n",
      "Epoch 42/100\n",
      "20/20 [==============================] - 0s 17ms/step - loss: 0.1283 - accuracy: 0.9792 - val_loss: 0.2041 - val_accuracy: 0.9167\n",
      "Epoch 43/100\n",
      "20/20 [==============================] - 0s 19ms/step - loss: 0.1215 - accuracy: 0.9792 - val_loss: 0.2009 - val_accuracy: 0.9167\n",
      "Epoch 44/100\n",
      "20/20 [==============================] - 0s 20ms/step - loss: 0.1253 - accuracy: 0.9688 - val_loss: 0.1735 - val_accuracy: 0.9167\n",
      "Epoch 45/100\n",
      "20/20 [==============================] - 0s 19ms/step - loss: 0.1194 - accuracy: 0.9792 - val_loss: 0.1821 - val_accuracy: 0.9167\n",
      "Epoch 46/100\n",
      "20/20 [==============================] - 0s 18ms/step - loss: 0.1085 - accuracy: 0.9688 - val_loss: 0.1890 - val_accuracy: 0.9167\n",
      "Epoch 47/100\n",
      "20/20 [==============================] - 0s 19ms/step - loss: 0.1147 - accuracy: 0.9688 - val_loss: 0.1812 - val_accuracy: 0.9167\n",
      "Epoch 48/100\n",
      "20/20 [==============================] - 0s 14ms/step - loss: 0.1061 - accuracy: 0.9688 - val_loss: 0.1952 - val_accuracy: 0.9167\n",
      "Epoch 49/100\n",
      "20/20 [==============================] - 0s 15ms/step - loss: 0.1147 - accuracy: 0.9792 - val_loss: 0.2014 - val_accuracy: 0.9167\n",
      "Epoch 50/100\n",
      "20/20 [==============================] - 0s 18ms/step - loss: 0.0911 - accuracy: 0.9792 - val_loss: 0.1981 - val_accuracy: 0.9167\n",
      "Epoch 51/100\n",
      "20/20 [==============================] - 0s 17ms/step - loss: 0.1051 - accuracy: 0.9688 - val_loss: 0.1902 - val_accuracy: 0.9167\n",
      "Epoch 52/100\n",
      "20/20 [==============================] - 0s 17ms/step - loss: 0.1057 - accuracy: 0.9688 - val_loss: 0.1639 - val_accuracy: 0.9167\n",
      "Epoch 53/100\n",
      "20/20 [==============================] - 0s 15ms/step - loss: 0.0946 - accuracy: 0.9583 - val_loss: 0.1646 - val_accuracy: 0.9167\n",
      "Epoch 54/100\n",
      "20/20 [==============================] - 0s 17ms/step - loss: 0.0927 - accuracy: 0.9688 - val_loss: 0.1522 - val_accuracy: 0.9167\n",
      "Epoch 55/100\n",
      "20/20 [==============================] - 0s 17ms/step - loss: 0.0954 - accuracy: 0.9583 - val_loss: 0.1500 - val_accuracy: 0.9167\n",
      "Epoch 56/100\n",
      "20/20 [==============================] - 0s 15ms/step - loss: 0.0990 - accuracy: 0.9583 - val_loss: 0.1669 - val_accuracy: 0.9167\n",
      "Epoch 57/100\n",
      "20/20 [==============================] - 0s 18ms/step - loss: 0.0908 - accuracy: 0.9896 - val_loss: 0.1582 - val_accuracy: 0.9167\n",
      "Epoch 58/100\n",
      "20/20 [==============================] - 0s 16ms/step - loss: 0.1005 - accuracy: 0.9583 - val_loss: 0.1555 - val_accuracy: 0.9167\n",
      "Epoch 59/100\n",
      "20/20 [==============================] - 0s 15ms/step - loss: 0.0988 - accuracy: 0.9583 - val_loss: 0.1505 - val_accuracy: 0.9167\n",
      "Epoch 60/100\n",
      "20/20 [==============================] - 0s 18ms/step - loss: 0.0919 - accuracy: 0.9688 - val_loss: 0.1449 - val_accuracy: 0.9167\n",
      "Epoch 61/100\n",
      "20/20 [==============================] - 0s 15ms/step - loss: 0.0917 - accuracy: 0.9375 - val_loss: 0.1406 - val_accuracy: 0.9167\n",
      "Epoch 62/100\n",
      "20/20 [==============================] - 0s 19ms/step - loss: 0.0838 - accuracy: 0.9792 - val_loss: 0.1492 - val_accuracy: 0.9167\n",
      "Epoch 63/100\n",
      "20/20 [==============================] - 0s 14ms/step - loss: 0.0910 - accuracy: 0.9583 - val_loss: 0.1301 - val_accuracy: 0.9167\n",
      "Epoch 64/100\n",
      "20/20 [==============================] - 0s 15ms/step - loss: 0.0734 - accuracy: 0.9792 - val_loss: 0.1503 - val_accuracy: 0.9167\n",
      "Epoch 65/100\n",
      "20/20 [==============================] - 0s 17ms/step - loss: 0.0862 - accuracy: 0.9583 - val_loss: 0.1518 - val_accuracy: 0.9167\n",
      "Epoch 66/100\n",
      "20/20 [==============================] - 0s 16ms/step - loss: 0.0755 - accuracy: 0.9792 - val_loss: 0.1522 - val_accuracy: 0.9167\n",
      "Epoch 67/100\n",
      "20/20 [==============================] - 0s 15ms/step - loss: 0.0714 - accuracy: 0.9792 - val_loss: 0.1386 - val_accuracy: 0.9167\n",
      "Epoch 68/100\n",
      "20/20 [==============================] - 0s 16ms/step - loss: 0.0751 - accuracy: 0.9688 - val_loss: 0.1260 - val_accuracy: 0.9167\n",
      "Epoch 69/100\n",
      "20/20 [==============================] - 0s 11ms/step - loss: 0.0724 - accuracy: 0.9688 - val_loss: 0.1445 - val_accuracy: 0.9167\n",
      "Epoch 70/100\n",
      "20/20 [==============================] - 0s 13ms/step - loss: 0.0883 - accuracy: 0.9583 - val_loss: 0.1317 - val_accuracy: 0.9167\n",
      "Epoch 71/100\n",
      "20/20 [==============================] - 0s 13ms/step - loss: 0.0728 - accuracy: 0.9792 - val_loss: 0.1408 - val_accuracy: 0.9167\n",
      "Epoch 72/100\n",
      "20/20 [==============================] - 0s 14ms/step - loss: 0.0845 - accuracy: 0.9688 - val_loss: 0.1429 - val_accuracy: 0.9167\n",
      "Epoch 73/100\n",
      "20/20 [==============================] - 0s 12ms/step - loss: 0.0719 - accuracy: 0.9792 - val_loss: 0.1344 - val_accuracy: 0.9167\n",
      "Epoch 74/100\n",
      "20/20 [==============================] - 0s 19ms/step - loss: 0.0741 - accuracy: 0.9792 - val_loss: 0.1287 - val_accuracy: 0.9167\n",
      "Epoch 75/100\n",
      "20/20 [==============================] - 0s 18ms/step - loss: 0.0738 - accuracy: 0.9792 - val_loss: 0.1313 - val_accuracy: 0.9167\n",
      "Epoch 76/100\n",
      "20/20 [==============================] - 0s 23ms/step - loss: 0.0787 - accuracy: 0.9688 - val_loss: 0.1327 - val_accuracy: 0.9167\n",
      "Epoch 77/100\n",
      "20/20 [==============================] - 0s 19ms/step - loss: 0.0756 - accuracy: 0.9688 - val_loss: 0.1145 - val_accuracy: 0.9583\n",
      "Epoch 78/100\n",
      "20/20 [==============================] - 0s 14ms/step - loss: 0.0641 - accuracy: 0.9896 - val_loss: 0.1251 - val_accuracy: 0.9167\n",
      "Epoch 79/100\n",
      "20/20 [==============================] - 0s 17ms/step - loss: 0.0602 - accuracy: 0.9896 - val_loss: 0.1230 - val_accuracy: 0.9167\n",
      "Epoch 80/100\n",
      "20/20 [==============================] - 0s 14ms/step - loss: 0.0705 - accuracy: 0.9688 - val_loss: 0.1261 - val_accuracy: 0.9167\n",
      "Epoch 81/100\n",
      "20/20 [==============================] - 0s 20ms/step - loss: 0.0867 - accuracy: 0.9583 - val_loss: 0.1251 - val_accuracy: 0.9167\n",
      "Epoch 82/100\n",
      "20/20 [==============================] - 0s 20ms/step - loss: 0.0771 - accuracy: 0.9792 - val_loss: 0.1281 - val_accuracy: 0.9167\n",
      "Epoch 83/100\n",
      "20/20 [==============================] - 0s 16ms/step - loss: 0.0649 - accuracy: 0.9792 - val_loss: 0.1089 - val_accuracy: 0.9583\n",
      "Epoch 84/100\n",
      "20/20 [==============================] - 0s 18ms/step - loss: 0.0665 - accuracy: 0.9688 - val_loss: 0.1201 - val_accuracy: 0.9167\n",
      "Epoch 85/100\n",
      "20/20 [==============================] - 0s 18ms/step - loss: 0.0628 - accuracy: 0.9583 - val_loss: 0.1388 - val_accuracy: 0.9167\n",
      "Epoch 86/100\n",
      "20/20 [==============================] - 0s 22ms/step - loss: 0.0571 - accuracy: 0.9792 - val_loss: 0.1372 - val_accuracy: 0.9167\n",
      "Epoch 87/100\n",
      "20/20 [==============================] - 0s 18ms/step - loss: 0.0784 - accuracy: 0.9583 - val_loss: 0.1291 - val_accuracy: 0.9167\n",
      "Epoch 88/100\n",
      "20/20 [==============================] - 0s 17ms/step - loss: 0.0693 - accuracy: 0.9583 - val_loss: 0.1382 - val_accuracy: 0.9167\n",
      "Epoch 89/100\n",
      "20/20 [==============================] - 0s 18ms/step - loss: 0.0515 - accuracy: 0.9792 - val_loss: 0.1342 - val_accuracy: 0.9167\n",
      "Epoch 90/100\n",
      "20/20 [==============================] - 0s 14ms/step - loss: 0.0663 - accuracy: 0.9688 - val_loss: 0.1325 - val_accuracy: 0.9167\n",
      "Epoch 91/100\n",
      "20/20 [==============================] - 0s 16ms/step - loss: 0.0602 - accuracy: 0.9688 - val_loss: 0.1269 - val_accuracy: 0.9167\n",
      "Epoch 92/100\n",
      "20/20 [==============================] - 0s 20ms/step - loss: 0.0519 - accuracy: 0.9896 - val_loss: 0.1265 - val_accuracy: 0.9167\n",
      "Epoch 93/100\n",
      "20/20 [==============================] - 0s 14ms/step - loss: 0.0678 - accuracy: 0.9688 - val_loss: 0.1238 - val_accuracy: 0.9167\n",
      "Epoch 94/100\n",
      "20/20 [==============================] - 0s 15ms/step - loss: 0.0699 - accuracy: 0.9688 - val_loss: 0.1171 - val_accuracy: 0.9167\n",
      "Epoch 95/100\n",
      "20/20 [==============================] - 0s 16ms/step - loss: 0.0688 - accuracy: 0.9583 - val_loss: 0.1195 - val_accuracy: 0.9167\n",
      "Epoch 96/100\n",
      "20/20 [==============================] - 0s 20ms/step - loss: 0.0542 - accuracy: 0.9792 - val_loss: 0.1449 - val_accuracy: 0.9167\n",
      "Epoch 97/100\n",
      "20/20 [==============================] - 0s 14ms/step - loss: 0.0755 - accuracy: 0.9688 - val_loss: 0.1397 - val_accuracy: 0.9167\n",
      "Epoch 98/100\n",
      "20/20 [==============================] - 0s 19ms/step - loss: 0.0790 - accuracy: 0.9792 - val_loss: 0.1334 - val_accuracy: 0.9167\n",
      "Epoch 99/100\n",
      "20/20 [==============================] - 0s 21ms/step - loss: 0.0591 - accuracy: 0.9896 - val_loss: 0.1332 - val_accuracy: 0.9167\n",
      "Epoch 100/100\n",
      "20/20 [==============================] - 0s 18ms/step - loss: 0.0645 - accuracy: 0.9792 - val_loss: 0.1294 - val_accuracy: 0.9167\n"
     ]
    }
   ],
   "source": [
    "batch_size = 5\n",
    "epochs = 100\n",
    "\n",
    "model.compile(loss=\"categorical_crossentropy\", optimizer=keras.optimizers.Adam(lr=0.001), metrics=[\"accuracy\"])\n",
    "\n",
    "history=model.fit(X_train, Y_train, batch_size=batch_size, epochs=epochs, validation_split=0.2, verbose=1)"
   ]
  },
  {
   "cell_type": "code",
   "execution_count": 10,
   "id": "f3d135f1",
   "metadata": {},
   "outputs": [
    {
     "name": "stdout",
     "output_type": "stream",
     "text": [
      "[array([[-0.37956738,  0.03756484,  0.06023045,  0.11126118, -0.14918317,\n",
      "         0.10363656,  0.64646095,  0.34768996, -0.6568901 , -0.03243364,\n",
      "        -0.07966272,  0.25861412, -0.46205297, -0.4932438 ,  0.08157586,\n",
      "         0.19333012, -0.6254159 ,  0.12900522, -0.12317199, -0.35693598,\n",
      "         0.2964526 , -0.5949898 ,  0.1857323 ,  0.7480784 , -0.4962159 ],\n",
      "       [ 0.06978052,  0.5624638 ,  0.31076515, -0.03665726,  0.08942956,\n",
      "         0.76989174, -0.72311956, -0.26863688,  0.53119844,  0.38063762,\n",
      "        -0.27990317, -0.10123777,  0.6505535 ,  0.06664991,  0.38816226,\n",
      "         0.04930648, -0.12935306, -0.34417072, -0.17337008,  0.48132688,\n",
      "        -0.5444634 ,  0.57934153, -0.04474749, -0.25202784,  0.5279439 ],\n",
      "       [-0.37799996, -0.84932935,  0.34461784,  0.13907526,  0.80653876,\n",
      "        -0.75300837,  0.448562  ,  0.4198094 , -0.0509663 , -0.42561588,\n",
      "         0.6567479 ,  0.00646884,  0.00475516, -0.16450153, -0.60704416,\n",
      "         0.71034163, -0.37090188, -0.09445006,  0.8297133 , -0.77251315,\n",
      "         0.39743632, -0.6705222 , -0.4855769 ,  0.66739553, -0.5892851 ],\n",
      "       [-0.81643075, -1.1089084 ,  0.8870879 , -0.60268015,  0.91669214,\n",
      "        -0.77856785,  0.90105504,  0.7206086 , -0.3108865 , -0.16616613,\n",
      "         0.35800067, -0.70776594, -0.5858826 , -0.75629765, -0.6666748 ,\n",
      "        -0.01618786, -0.5648927 , -0.78328776,  0.9773947 , -0.88129437,\n",
      "         0.2438288 , -0.56471366, -0.7602551 ,  0.31895846, -0.43274343]],\n",
      "      dtype=float32), array([ 0.34960046,  0.02202355, -0.3708296 ,  0.46310717, -0.34549543,\n",
      "        0.2793309 , -0.15872052, -0.20578855, -0.34109378, -0.26821446,\n",
      "        0.4052698 ,  0.3617087 , -0.2588267 ,  0.287215  ,  0.36156565,\n",
      "        0.43564868, -0.31875214,  0.3732687 , -0.30828428,  0.22666205,\n",
      "        0.37460473, -0.31769928,  0.34439376,  0.41757822,  0.2806598 ],\n",
      "      dtype=float32), -0.3281726, -0.60616016, array([[-0.8542122 , -0.8660782 ,  0.88620716],\n",
      "       [-0.59525675, -0.02240418,  0.5926007 ],\n",
      "       [ 0.36520544,  0.27733538, -0.63692003],\n",
      "       [ 0.10675055, -0.5751411 ,  0.38030183],\n",
      "       [ 0.9121994 ,  0.39395502, -0.07200088],\n",
      "       [-0.2140237 , -0.05385312,  0.9794842 ],\n",
      "       [ 0.4052582 , -0.40697253, -0.67630714],\n",
      "       [ 1.0808475 , -0.08100574, -0.68759596],\n",
      "       [-0.67814624,  0.33674693,  0.13545404],\n",
      "       [-0.61786634,  0.25661534,  0.58966917],\n",
      "       [ 0.9237343 , -0.14159739,  0.13526636],\n",
      "       [ 0.5796489 , -0.5477659 ,  0.76647663],\n",
      "       [-0.6391953 ,  0.07830483,  0.14991497],\n",
      "       [-0.5985554 , -0.6246009 ,  0.6115999 ],\n",
      "       [-0.24145655, -0.5294263 ,  1.315384  ],\n",
      "       [ 1.1739875 , -0.2534526 ,  0.1510582 ],\n",
      "       [-0.6984811 ,  0.03412169,  0.04076535],\n",
      "       [ 0.23421127, -0.83734924,  0.9269625 ],\n",
      "       [ 1.0274984 ,  0.3997185 , -0.22478415],\n",
      "       [-0.8877142 , -0.28120953,  0.619533  ],\n",
      "       [ 0.9736512 , -0.61180496,  0.03424491],\n",
      "       [-1.0701512 , -0.36656955, -0.14982136],\n",
      "       [-0.55186146, -0.8806547 ,  1.4108458 ],\n",
      "       [ 0.93360037, -0.27971143, -0.06690858],\n",
      "       [-0.13417701,  0.04831007,  1.0449436 ]], dtype=float32), array([-0.12468711,  0.2522472 , -0.21230222], dtype=float32)]\n"
     ]
    }
   ],
   "source": [
    "# final parameter values at the end of training\n",
    "final_parameter_values = model.get_weights()\n",
    "print(final_parameter_values)"
   ]
  },
  {
   "cell_type": "code",
   "execution_count": 11,
   "id": "6b5d988c",
   "metadata": {},
   "outputs": [
    {
     "name": "stdout",
     "output_type": "stream",
     "text": [
      "AF coefficients (weights) [-0.3281726, -0.60616016]\n"
     ]
    }
   ],
   "source": [
    "print(\"AF coefficients (weights) {}\".format(adaact.get_weights()))"
   ]
  },
  {
   "cell_type": "code",
   "execution_count": 12,
   "id": "4aaed7f8",
   "metadata": {},
   "outputs": [
    {
     "name": "stdout",
     "output_type": "stream",
     "text": [
      "Test loss: 0.07017664611339569\n",
      "Test accuracy: 0.9666666388511658\n"
     ]
    }
   ],
   "source": [
    "# Obtain test loss and test accuracy\n",
    "score = model.evaluate(X_test, Y_test, verbose=0)\n",
    "print(\"Test loss:\", score[0])\n",
    "print(\"Test accuracy:\", score[1])"
   ]
  },
  {
   "cell_type": "code",
   "execution_count": 13,
   "id": "84c8711a",
   "metadata": {},
   "outputs": [
    {
     "name": "stdout",
     "output_type": "stream",
     "text": [
      "train loss: 0.0719287171959877\n",
      "train accuracy: 0.9666666388511658\n"
     ]
    }
   ],
   "source": [
    "# Obtain train loss and train accuracy\n",
    "score = model.evaluate(X_train, Y_train, verbose=0)\n",
    "print(\"train loss:\", score[0])\n",
    "print(\"train accuracy:\", score[1])"
   ]
  },
  {
   "cell_type": "code",
   "execution_count": 14,
   "id": "260f0418",
   "metadata": {},
   "outputs": [
    {
     "name": "stdout",
     "output_type": "stream",
     "text": [
      "1/1 [==============================] - 1s 702ms/step\n"
     ]
    }
   ],
   "source": [
    "# Evaluate the model on the test set\n",
    "y_pred = model.predict(X_test)\n",
    "y_pred = np.argmax(y_pred, axis=1)\n",
    "y_true = np.argmax(Y_test, axis=1)"
   ]
  },
  {
   "cell_type": "code",
   "execution_count": 15,
   "id": "ff29fa89",
   "metadata": {},
   "outputs": [
    {
     "name": "stdout",
     "output_type": "stream",
     "text": [
      "f1 score is 0.9665831244778613\n"
     ]
    }
   ],
   "source": [
    "# Compute the F1-score\n",
    "f1 = f1_score(y_true, y_pred, average='weighted')\n",
    "print(\"f1 score is {}\".format(f1))"
   ]
  },
  {
   "cell_type": "code",
   "execution_count": 16,
   "id": "5a30fba5",
   "metadata": {},
   "outputs": [
    {
     "data": {
      "image/png": "[encoded data removed]",
      "text/plain": [
       "<Figure size 432x288 with 1 Axes>"
      ]
     },
     "metadata": {
      "needs_background": "light"
     },
     "output_type": "display_data"
    }
   ],
   "source": [
    "# Plot the loss function vs. epochs\n",
    "train_loss = history.history['loss']\n",
    "test_loss = history.history['val_loss']\n",
    "plt.plot(range(1, epochs+1), train_loss, label='Train Loss')\n",
    "plt.plot(range(1, epochs+1), test_loss, label='Test Loss')\n",
    "plt.xlabel('Epochs')\n",
    "plt.ylabel('Loss')\n",
    "plt.title('Loss Function vs. Epochs')\n",
    "plt.legend()\n",
    "plt.show()"
   ]
  },
  {
   "cell_type": "code",
   "execution_count": null,
   "id": "c921f253",
   "metadata": {},
   "outputs": [],
   "source": []
  }
 ],
 "metadata": {
  "kernelspec": {
   "display_name": "Python 3 (ipykernel)",
   "language": "python",
   "name": "python3"
  },
  "language_info": {
   "codemirror_mode": {
    "name": "ipython",
    "version": 3
   },
   "file_extension": ".py",
   "mimetype": "text/x-python",
   "name": "python",
   "nbconvert_exporter": "python",
   "pygments_lexer": "ipython3",
   "version": "3.9.12"
  }
 },
 "nbformat": 4,
 "nbformat_minor": 5
}
