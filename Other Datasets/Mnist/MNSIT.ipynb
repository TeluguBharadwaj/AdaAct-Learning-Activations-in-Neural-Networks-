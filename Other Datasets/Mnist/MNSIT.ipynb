{
 "cells": [
  {
   "cell_type": "code",
   "execution_count": 22,
   "id": "04f8040e",
   "metadata": {},
   "outputs": [],
   "source": [
    "#libraries to be used\n",
    "import numpy as np\n",
    "import tensorflow as tf\n",
    "from tensorflow import keras\n",
    "from tensorflow.keras import layers\n",
    "from sklearn.metrics import f1_score\n",
    "import matplotlib.pyplot as plt"
   ]
  },
  {
   "cell_type": "code",
   "execution_count": 4,
   "id": "fa60f882",
   "metadata": {},
   "outputs": [],
   "source": [
    "#Custom Activation Functions\n",
    "initializer0 = keras.initializers. RandomUniform(minval = -1, maxval =2)\n",
    "initializer1 = keras.initializers. RandomUniform(minval = -1, maxval =2)\n",
    "\n",
    "class Adaact(keras.layers.Layer):\n",
    "    def __init__(self):\n",
    "        super(Adaact, self).__init__()\n",
    "        self.k0 = self.add_weight(name='k0', shape = (), initializer=initializer0, trainable=True)\n",
    "        self.k1 = self.add_weight(name='k1', shape = (), initializer=initializer1, trainable=True)\n",
    "        \n",
    "    def call(self, inputs):\n",
    "        return self.k0 + tf.multiply(inputs, self.k1)"
   ]
  },
  {
   "cell_type": "code",
   "execution_count": 5,
   "id": "1a5a6ac2",
   "metadata": {},
   "outputs": [
    {
     "name": "stdout",
     "output_type": "stream",
     "text": [
      "x_train shape: (60000, 28, 28, 1)\n",
      "60000 train samples\n",
      "10000 test samples\n"
     ]
    }
   ],
   "source": [
    "num_classes = 10\n",
    "input_shape = (28, 28, 1)\n",
    "\n",
    "# the data, split between train and test sets\n",
    "(x_train, y_train), (x_test, y_test) = keras.datasets.mnist.load_data()\n",
    "\n",
    "# Scale images to the [0, 1] range\n",
    "x_train = x_train.astype(\"float32\") / 255\n",
    "x_test = x_test.astype(\"float32\") / 255\n",
    "# Make sure images have shape (28, 28, 1)\n",
    "x_train = np.expand_dims(x_train, -1)\n",
    "x_test = np.expand_dims(x_test, -1)\n",
    "print(\"x_train shape:\", x_train.shape)\n",
    "print(x_train.shape[0], \"train samples\")\n",
    "print(x_test.shape[0], \"test samples\")\n",
    "\n",
    "\n",
    "# convert class vectors to binary class matrices\n",
    "y_train = keras.utils.to_categorical(y_train, num_classes)\n",
    "y_test = keras.utils.to_categorical(y_test, num_classes)"
   ]
  },
  {
   "cell_type": "code",
   "execution_count": 7,
   "id": "0d5a02bd",
   "metadata": {},
   "outputs": [
    {
     "name": "stdout",
     "output_type": "stream",
     "text": [
      "Model: \"mnist_adaact\"\n",
      "__________________________________________________________________________________________________\n",
      " Layer (type)                   Output Shape         Param #     Connected to                     \n",
      "==================================================================================================\n",
      " input_2 (InputLayer)           [(None, 28, 28, 1)]  0           []                               \n",
      "                                                                                                  \n",
      " conv2d_2 (Conv2D)              (None, 26, 26, 32)   320         ['input_2[0][0]']                \n",
      "                                                                                                  \n",
      " adaact_1 (Adaact)              multiple             2           ['conv2d_2[0][0]',               \n",
      "                                                                  'conv2d_3[0][0]']               \n",
      "                                                                                                  \n",
      " max_pooling2d_1 (MaxPooling2D)  (None, 13, 13, 32)  0           ['adaact_1[0][0]']               \n",
      "                                                                                                  \n",
      " conv2d_3 (Conv2D)              (None, 11, 11, 64)   18496       ['max_pooling2d_1[0][0]']        \n",
      "                                                                                                  \n",
      " max_pooling2d_2 (MaxPooling2D)  (None, 5, 5, 64)    0           ['adaact_1[1][0]']               \n",
      "                                                                                                  \n",
      " flatten (Flatten)              (None, 1600)         0           ['max_pooling2d_2[0][0]']        \n",
      "                                                                                                  \n",
      " dropout (Dropout)              (None, 1600)         0           ['flatten[0][0]']                \n",
      "                                                                                                  \n",
      " dense (Dense)                  (None, 10)           16010       ['dropout[0][0]']                \n",
      "                                                                                                  \n",
      "==================================================================================================\n",
      "Total params: 34,828\n",
      "Trainable params: 34,828\n",
      "Non-trainable params: 0\n",
      "__________________________________________________________________________________________________\n"
     ]
    },
    {
     "name": "stderr",
     "output_type": "stream",
     "text": [
      "C:\\Users\\telug\\anaconda3\\lib\\site-packages\\keras\\initializers\\initializers.py:120: UserWarning: The initializer RandomUniform is unseeded and being called multiple times, which will return identical values each time (even if the initializer is unseeded). Please update your code to provide a seed to the initializer, or avoid using the same initalizer instance more than once.\n",
      "  warnings.warn(\n"
     ]
    }
   ],
   "source": [
    "inputs = keras.Input(shape=input_shape)\n",
    "x = layers.Conv2D(32, kernel_size=(3, 3))(inputs)\n",
    "adaact = Adaact()\n",
    "x = adaact(x)\n",
    "x = layers.MaxPooling2D(pool_size=(2, 2))(x)\n",
    "x = layers.Conv2D(64, kernel_size=(3, 3))(x)\n",
    "x = adaact(x)\n",
    "x = layers.MaxPooling2D(pool_size=(2, 2))(x)\n",
    "x = layers.Flatten()(x)\n",
    "x = layers.Dropout(0.5)(x)\n",
    "outputs = layers.Dense(num_classes, activation=\"softmax\")(x)\n",
    "\n",
    "model = keras.Model(inputs=inputs, outputs=outputs, name=\"mnist_adaact\")\n",
    "model.summary()"
   ]
  },
  {
   "cell_type": "code",
   "execution_count": 20,
   "id": "1c8a1b30",
   "metadata": {},
   "outputs": [
    {
     "name": "stdout",
     "output_type": "stream",
     "text": [
      "Epoch 1/15\n",
      "422/422 [==============================] - 34s 77ms/step - loss: 0.0440 - accuracy: 0.9858 - val_loss: 0.0383 - val_accuracy: 0.9910\n",
      "Epoch 2/15\n",
      "422/422 [==============================] - 35s 84ms/step - loss: 0.0429 - accuracy: 0.9857 - val_loss: 0.0388 - val_accuracy: 0.9902\n",
      "Epoch 3/15\n",
      "422/422 [==============================] - 36s 85ms/step - loss: 0.0404 - accuracy: 0.9864 - val_loss: 0.0388 - val_accuracy: 0.9895\n",
      "Epoch 4/15\n",
      "422/422 [==============================] - 38s 90ms/step - loss: 0.0410 - accuracy: 0.9866 - val_loss: 0.0413 - val_accuracy: 0.9893\n",
      "Epoch 5/15\n",
      "422/422 [==============================] - 39s 93ms/step - loss: 0.0382 - accuracy: 0.9871 - val_loss: 0.0375 - val_accuracy: 0.9905\n",
      "Epoch 6/15\n",
      "422/422 [==============================] - 46s 108ms/step - loss: 0.0402 - accuracy: 0.9870 - val_loss: 0.0353 - val_accuracy: 0.9908\n",
      "Epoch 7/15\n",
      "422/422 [==============================] - 43s 103ms/step - loss: 0.0374 - accuracy: 0.9876 - val_loss: 0.0404 - val_accuracy: 0.9888\n",
      "Epoch 8/15\n",
      "422/422 [==============================] - 39s 93ms/step - loss: 0.0358 - accuracy: 0.9880 - val_loss: 0.0371 - val_accuracy: 0.9897\n",
      "Epoch 9/15\n",
      "422/422 [==============================] - 40s 96ms/step - loss: 0.0357 - accuracy: 0.9880 - val_loss: 0.0408 - val_accuracy: 0.9897\n",
      "Epoch 10/15\n",
      "422/422 [==============================] - 40s 95ms/step - loss: 0.0337 - accuracy: 0.9887 - val_loss: 0.0404 - val_accuracy: 0.9895\n",
      "Epoch 11/15\n",
      "422/422 [==============================] - 39s 91ms/step - loss: 0.0342 - accuracy: 0.9881 - val_loss: 0.0417 - val_accuracy: 0.9895\n",
      "Epoch 12/15\n",
      "422/422 [==============================] - 38s 91ms/step - loss: 0.0333 - accuracy: 0.9889 - val_loss: 0.0418 - val_accuracy: 0.9908\n",
      "Epoch 13/15\n",
      "422/422 [==============================] - 38s 90ms/step - loss: 0.0317 - accuracy: 0.9897 - val_loss: 0.0423 - val_accuracy: 0.9892\n",
      "Epoch 14/15\n",
      "422/422 [==============================] - 39s 92ms/step - loss: 0.0330 - accuracy: 0.9889 - val_loss: 0.0402 - val_accuracy: 0.9912\n",
      "Epoch 15/15\n",
      "422/422 [==============================] - 38s 91ms/step - loss: 0.0309 - accuracy: 0.9895 - val_loss: 0.0423 - val_accuracy: 0.9890\n"
     ]
    }
   ],
   "source": [
    "batch_size = 128\n",
    "epochs = 15\n",
    "\n",
    "model.compile(loss=\"categorical_crossentropy\", optimizer=\"adam\", metrics=[\"accuracy\"])\n",
    "\n",
    "history=model.fit(x_train, y_train, batch_size=batch_size, epochs=epochs, validation_split=0.1)"
   ]
  },
  {
   "cell_type": "code",
   "execution_count": 9,
   "id": "f5cd846a",
   "metadata": {},
   "outputs": [
    {
     "name": "stdout",
     "output_type": "stream",
     "text": [
      "[array([[[[-0.02403117,  0.16988131,  0.05628708, -0.01491756,\n",
      "           0.00510367,  0.1006173 ,  0.06744067, -0.14933732,\n",
      "          -0.00184069,  0.00038627,  0.12194931,  0.05525168,\n",
      "           0.14955325, -0.17684539,  0.0168383 , -0.04666753,\n",
      "          -0.082325  , -0.18759885,  0.00761537, -0.08232208,\n",
      "           0.13682592,  0.06301643, -0.25865978, -0.15346447,\n",
      "          -0.16176693, -0.03043972,  0.03960114,  0.10957118,\n",
      "           0.13124615,  0.11921514,  0.06391111, -0.022453  ]],\n",
      "\n",
      "        [[ 0.0955977 , -0.11949532,  0.08446911,  0.02241919,\n",
      "          -0.09567817, -0.02006272, -0.06655791,  0.0967398 ,\n",
      "          -0.0375165 ,  0.04876179,  0.00633458,  0.17261697,\n",
      "          -0.2128802 , -0.17244674,  0.01986898, -0.01347788,\n",
      "          -0.11378707,  0.06893189, -0.27370143, -0.06670171,\n",
      "           0.09341762, -0.09992293, -0.05503926, -0.22486438,\n",
      "           0.08979131,  0.05732937,  0.15010688,  0.00710787,\n",
      "          -0.04653169,  0.03826183,  0.15270893, -0.05492403]],\n",
      "\n",
      "        [[-0.05567557, -0.01291933, -0.09516079, -0.19104716,\n",
      "           0.01700793, -0.09091827,  0.06688107,  0.08077148,\n",
      "          -0.04975349,  0.2593143 , -0.15432428, -0.23342296,\n",
      "          -0.05156924,  0.05676633, -0.06751863, -0.07152528,\n",
      "           0.07413463,  0.03360082,  0.20394817, -0.04426709,\n",
      "           0.17672573, -0.04956095,  0.03211551, -0.11087918,\n",
      "          -0.06431322, -0.2256349 ,  0.01340252, -0.12944184,\n",
      "          -0.01324086, -0.13592379, -0.10234107,  0.00837619]]],\n",
      "\n",
      "\n",
      "       [[[-0.01515644,  0.14796643, -0.21145844,  0.02167183,\n",
      "           0.12977177, -0.01421619, -0.04322051, -0.0286424 ,\n",
      "          -0.18409818, -0.10658437,  0.08049454, -0.12273393,\n",
      "          -0.03313382, -0.08640475,  0.08849604,  0.07582251,\n",
      "          -0.13536298, -0.05460439,  0.12674925, -0.02472051,\n",
      "           0.07959712,  0.08859391, -0.0042027 ,  0.16728525,\n",
      "           0.05217617,  0.08444492,  0.15730804, -0.2618863 ,\n",
      "          -0.12875624, -0.09439269, -0.31232962,  0.05670752]],\n",
      "\n",
      "        [[-0.01596007, -0.17624083,  0.03210093,  0.21253899,\n",
      "          -0.16307952, -0.15917951, -0.07232193, -0.15750797,\n",
      "          -0.00785315, -0.21578975,  0.10672442,  0.10392265,\n",
      "          -0.1689869 ,  0.137608  , -0.05752291,  0.10267432,\n",
      "          -0.01242505, -0.18829471,  0.00841604,  0.01455658,\n",
      "           0.03936967,  0.01826469,  0.19903989, -0.07888562,\n",
      "           0.12181558,  0.13112298,  0.05507089, -0.16333549,\n",
      "           0.05906018, -0.20416188, -0.09783861,  0.02224015]],\n",
      "\n",
      "        [[ 0.03309372,  0.00662189,  0.16212365, -0.0720957 ,\n",
      "           0.14085324,  0.12395109, -0.04695767,  0.2001273 ,\n",
      "          -0.00937545, -0.19645432, -0.20228548,  0.14068885,\n",
      "           0.16513559,  0.11597107, -0.03124668,  0.10202998,\n",
      "           0.15687662, -0.15203215, -0.1334145 , -0.07385215,\n",
      "           0.05618744, -0.22823822,  0.12529711, -0.18657023,\n",
      "           0.18522474, -0.02367594, -0.20376964, -0.00689408,\n",
      "           0.17446573,  0.02216028,  0.09040353,  0.11260922]]],\n",
      "\n",
      "\n",
      "       [[[ 0.00529486,  0.13117544,  0.0706393 , -0.11183384,\n",
      "          -0.07197192, -0.12469522,  0.02429235, -0.10346804,\n",
      "          -0.05390283, -0.0386437 ,  0.12210203, -0.10519166,\n",
      "          -0.08543814, -0.01236776, -0.03899284, -0.21879989,\n",
      "           0.04886401,  0.13247629, -0.05822836, -0.07394143,\n",
      "          -0.24234751, -0.01613266,  0.12424336,  0.19234815,\n",
      "          -0.10820378, -0.05776486,  0.00423308,  0.16741769,\n",
      "          -0.02634077, -0.1072468 ,  0.1613269 , -0.1301137 ]],\n",
      "\n",
      "        [[ 0.09155097, -0.16250075, -0.18456548,  0.01162057,\n",
      "          -0.060284  ,  0.1761038 , -0.00965564, -0.07781273,\n",
      "           0.11925456,  0.11166398, -0.01472223,  0.04987584,\n",
      "          -0.00358293,  0.03030918, -0.15736336, -0.04364186,\n",
      "           0.01896357,  0.15666051,  0.02993273, -0.05180946,\n",
      "          -0.19132483,  0.1995266 ,  0.04142561,  0.2012715 ,\n",
      "          -0.14916755, -0.04133394, -0.2323153 ,  0.14982055,\n",
      "          -0.08740485,  0.12666357,  0.01238769,  0.11118261]],\n",
      "\n",
      "        [[-0.17313811, -0.05395514,  0.00278341,  0.00541144,\n",
      "           0.07043511, -0.07977726,  0.03866057,  0.12027869,\n",
      "           0.13942711, -0.07908385, -0.12606259,  0.00729277,\n",
      "           0.11136734, -0.00297963,  0.15493816, -0.01770937,\n",
      "          -0.08032364, -0.06695613, -0.01663583, -0.03512595,\n",
      "          -0.18373215,  0.01594553, -0.24307384,  0.05100349,\n",
      "          -0.13209298,  0.11536307, -0.04206778,  0.14185153,\n",
      "          -0.15159167,  0.06321879, -0.12296173, -0.08827243]]]],\n",
      "      dtype=float32), array([ 0.03157592,  0.02203308,  0.01387437,  0.02932172,  0.02300525,\n",
      "        0.01954248,  0.01543831, -0.00155578,  0.01810816,  0.01472878,\n",
      "       -0.004992  ,  0.00863995,  0.02515406,  0.01296331,  0.01272251,\n",
      "        0.02216758, -0.0022143 ,  0.02750203,  0.02063827,  0.10555805,\n",
      "       -0.01280368,  0.01195391, -0.01589265, -0.01944948,  0.02355065,\n",
      "        0.00483377, -0.00428894,  0.01326996,  0.03127448, -0.02478286,\n",
      "        0.0161109 ,  0.0199668 ], dtype=float32), -0.06387945, 1.7510321, array([[[[ 0.10134596, -0.08036296,  0.04314128, ..., -0.10378967,\n",
      "           0.00625695,  0.05324521],\n",
      "         [ 0.10643114, -0.01185029,  0.14010777, ...,  0.0112711 ,\n",
      "          -0.06841335, -0.0318188 ],\n",
      "         [ 0.05412607,  0.12621205, -0.09450914, ..., -0.00809548,\n",
      "           0.06750108, -0.12411936],\n",
      "         ...,\n",
      "         [ 0.03973148, -0.03098725,  0.02126428, ...,  0.08931635,\n",
      "          -0.00385386,  0.12369595],\n",
      "         [ 0.13431324,  0.07901789, -0.08711258, ...,  0.06568784,\n",
      "           0.08528384,  0.08739545],\n",
      "         [ 0.04976761, -0.0010652 , -0.02095551, ..., -0.14318934,\n",
      "          -0.04332189, -0.06580451]],\n",
      "\n",
      "        [[-0.06771667, -0.06376328,  0.07937271, ..., -0.11531806,\n",
      "          -0.00241848, -0.02751649],\n",
      "         [-0.01317222, -0.05213186,  0.12328116, ..., -0.15169777,\n",
      "           0.14680786,  0.0657331 ],\n",
      "         [ 0.08437497, -0.0182116 ,  0.03197464, ...,  0.04761968,\n",
      "           0.10319976, -0.03897835],\n",
      "         ...,\n",
      "         [-0.05075148,  0.00072405,  0.07986117, ...,  0.15403512,\n",
      "           0.031684  ,  0.07757664],\n",
      "         [ 0.02353273, -0.04160917,  0.0116576 , ...,  0.09509703,\n",
      "          -0.01201895,  0.00675338],\n",
      "         [-0.07235203,  0.03119673,  0.00532056, ..., -0.09102748,\n",
      "          -0.01237427, -0.03835782]],\n",
      "\n",
      "        [[ 0.03423444,  0.06052544,  0.03891786, ...,  0.023059  ,\n",
      "          -0.08946688,  0.09342184],\n",
      "         [ 0.17921889,  0.0633685 ,  0.00828269, ..., -0.14634845,\n",
      "           0.19300973,  0.02019824],\n",
      "         [ 0.0690496 , -0.13959824, -0.05258423, ...,  0.07046442,\n",
      "          -0.05904622,  0.09621766],\n",
      "         ...,\n",
      "         [-0.04314418,  0.0220881 ,  0.1327941 , ...,  0.10328598,\n",
      "          -0.01250704,  0.06290305],\n",
      "         [-0.00144067,  0.05680594,  0.05781494, ...,  0.00947896,\n",
      "          -0.06573893,  0.1660185 ],\n",
      "         [-0.01160558,  0.14115758, -0.06079309, ..., -0.00226117,\n",
      "          -0.04022245, -0.08381478]]],\n",
      "\n",
      "\n",
      "       [[[ 0.11167545,  0.04865204, -0.07935151, ..., -0.02833561,\n",
      "           0.05857559, -0.04875068],\n",
      "         [ 0.05171684,  0.1724062 , -0.01113936, ..., -0.03658609,\n",
      "           0.03590831, -0.07426473],\n",
      "         [-0.1167302 ,  0.13579047,  0.05851007, ...,  0.04776346,\n",
      "          -0.00650398,  0.03053019],\n",
      "         ...,\n",
      "         [ 0.02930502,  0.058601  ,  0.0394708 , ...,  0.27647412,\n",
      "           0.00893926, -0.03610051],\n",
      "         [-0.02334625,  0.28820074,  0.01874566, ...,  0.11952878,\n",
      "          -0.04479096, -0.17579244],\n",
      "         [-0.04090785,  0.04564206,  0.01502478, ...,  0.07734863,\n",
      "          -0.03311607, -0.03407795]],\n",
      "\n",
      "        [[ 0.02433036,  0.00075292, -0.03924074, ...,  0.03425647,\n",
      "           0.08279976,  0.02517339],\n",
      "         [-0.03782602, -0.00059911, -0.00767561, ..., -0.14133532,\n",
      "           0.06041971, -0.00214896],\n",
      "         [ 0.01317578, -0.00233466,  0.0012363 , ...,  0.0004364 ,\n",
      "          -0.02078485,  0.06823671],\n",
      "         ...,\n",
      "         [ 0.04073476, -0.07049429,  0.03876382, ..., -0.01085909,\n",
      "           0.10023203,  0.04229786],\n",
      "         [ 0.01317746,  0.05134011,  0.10223611, ..., -0.02345897,\n",
      "           0.09223705,  0.08413817],\n",
      "         [-0.01309328, -0.03326992,  0.09779673, ..., -0.06806595,\n",
      "          -0.03363463, -0.01437459]],\n",
      "\n",
      "        [[ 0.03186822, -0.08337071,  0.05976122, ...,  0.02603228,\n",
      "          -0.04662249,  0.00825804],\n",
      "         [ 0.17581554,  0.07823556, -0.04084921, ..., -0.00123105,\n",
      "           0.01268917, -0.00689952],\n",
      "         [-0.0272698 ,  0.08734083, -0.02268455, ..., -0.07929397,\n",
      "          -0.07248186, -0.09413617],\n",
      "         ...,\n",
      "         [-0.06173587,  0.07466275,  0.00407445, ...,  0.12272014,\n",
      "           0.1793392 ,  0.0033199 ],\n",
      "         [-0.00409459, -0.09612523,  0.03794811, ...,  0.01943135,\n",
      "           0.05598475, -0.05087639],\n",
      "         [-0.0972003 , -0.02107898,  0.0935523 , ...,  0.06616369,\n",
      "          -0.13304093,  0.10434051]]],\n",
      "\n",
      "\n",
      "       [[[ 0.01137717,  0.06113339, -0.03570422, ...,  0.11822349,\n",
      "          -0.04269042, -0.00923747],\n",
      "         [ 0.17401583,  0.0727482 , -0.12525827, ..., -0.13711369,\n",
      "           0.03009277, -0.1408    ],\n",
      "         [-0.11016356,  0.05864136,  0.1089241 , ..., -0.0468188 ,\n",
      "           0.02387677,  0.07632939],\n",
      "         ...,\n",
      "         [ 0.15313548,  0.08291072, -0.07272341, ..., -0.10983213,\n",
      "           0.07755576, -0.07492633],\n",
      "         [ 0.00854681, -0.0953287 ,  0.1075794 , ...,  0.03390545,\n",
      "          -0.01989336, -0.06317949],\n",
      "         [-0.00205657, -0.07320492, -0.12212368, ..., -0.03268804,\n",
      "          -0.10005955, -0.06265135]],\n",
      "\n",
      "        [[-0.04571876, -0.05582218, -0.06601197, ...,  0.00420886,\n",
      "          -0.01452718, -0.0936958 ],\n",
      "         [-0.05906256, -0.04823481, -0.13600887, ...,  0.03393658,\n",
      "          -0.05325884, -0.13186455],\n",
      "         [-0.02843471,  0.03741673, -0.0196065 , ...,  0.10892082,\n",
      "           0.03881974,  0.03978415],\n",
      "         ...,\n",
      "         [ 0.11011843, -0.05770403,  0.01009453, ..., -0.02961934,\n",
      "           0.14264898, -0.06648004],\n",
      "         [ 0.09123507,  0.0493411 ,  0.00442582, ..., -0.0680269 ,\n",
      "           0.06525747, -0.09465629],\n",
      "         [ 0.02196282, -0.07460825, -0.04031644, ..., -0.05363265,\n",
      "          -0.12801062, -0.08061488]],\n",
      "\n",
      "        [[ 0.05054055,  0.06843198, -0.00236067, ...,  0.14482966,\n",
      "          -0.06815213,  0.02586249],\n",
      "         [ 0.14566989, -0.05563033, -0.06132895, ..., -0.00803972,\n",
      "          -0.00967904, -0.16647008],\n",
      "         [-0.08405268,  0.09365961, -0.0621419 , ...,  0.0249642 ,\n",
      "           0.05382304,  0.05122767],\n",
      "         ...,\n",
      "         [ 0.10730475,  0.00239673,  0.08817204, ...,  0.10051771,\n",
      "           0.0674597 , -0.083243  ],\n",
      "         [-0.00375871,  0.06609935,  0.07051255, ...,  0.08106926,\n",
      "           0.10243648, -0.08462813],\n",
      "         [ 0.04965892, -0.10501119,  0.07829903, ..., -0.08400416,\n",
      "          -0.07068643, -0.08243823]]]], dtype=float32), array([-0.1255849 , -0.06564368, -0.07681752, -0.05951875, -0.06277415,\n",
      "       -0.08171923, -0.09739684, -0.08574742, -0.04939772, -0.09888975,\n",
      "       -0.05452599, -0.04171037, -0.07964081, -0.06051085, -0.00692263,\n",
      "       -0.0183512 , -0.11668472, -0.06176648, -0.09939332, -0.07047375,\n",
      "       -0.02279884, -0.10251607, -0.08008326,  0.02205133, -0.08072872,\n",
      "       -0.03741681, -0.07791746, -0.12804659, -0.11193069, -0.0908138 ,\n",
      "       -0.07104736, -0.07449563, -0.06608594, -0.09448627, -0.05843132,\n",
      "       -0.12401275, -0.08704869, -0.06484766, -0.13112564, -0.09236416,\n",
      "       -0.07324872, -0.07537875, -0.056278  , -0.03744002, -0.11105976,\n",
      "       -0.10241276, -0.10253584, -0.10422065, -0.04783361, -0.10396245,\n",
      "       -0.12217037, -0.11771101, -0.10487638, -0.00057116, -0.06431993,\n",
      "       -0.08864852, -0.05438608, -0.10558892, -0.07135744, -0.08784559,\n",
      "       -0.07931146, -0.11016415, -0.06907486, -0.13820304], dtype=float32), array([[ 0.00724436, -0.00709789, -0.11044401, ...,  0.0016906 ,\n",
      "        -0.00281936,  0.02159288],\n",
      "       [-0.14016868,  0.09508933, -0.02608974, ...,  0.06898625,\n",
      "        -0.03581491,  0.03236238],\n",
      "       [-0.06115282, -0.02613451,  0.05075282, ...,  0.10416084,\n",
      "        -0.00204668,  0.00252468],\n",
      "       ...,\n",
      "       [ 0.02745289, -0.1630827 , -0.06299834, ..., -0.08470928,\n",
      "         0.02712695,  0.02854335],\n",
      "       [ 0.02941717, -0.09609449, -0.07875443, ...,  0.06408028,\n",
      "        -0.00441604, -0.05614609],\n",
      "       [-0.18353267,  0.11826261,  0.15483746, ..., -0.0348711 ,\n",
      "        -0.10771024,  0.08536771]], dtype=float32), array([-0.01441489,  0.1033422 ,  0.11356452, -0.10839057,  0.01573128,\n",
      "        0.02460295, -0.05220496,  0.07926248, -0.00996875, -0.12728465],\n",
      "      dtype=float32)]\n"
     ]
    }
   ],
   "source": [
    "# final parameter values at the end of training\n",
    "final_parameter_values = model.get_weights()\n",
    "print(final_parameter_values)"
   ]
  },
  {
   "cell_type": "code",
   "execution_count": 10,
   "id": "4fc688c9",
   "metadata": {},
   "outputs": [
    {
     "name": "stdout",
     "output_type": "stream",
     "text": [
      "AF coefficients (weights) [-0.06387945, 1.7510321]\n"
     ]
    }
   ],
   "source": [
    "print(\"AF coefficients (weights) {}\".format(adaact.get_weights()))"
   ]
  },
  {
   "cell_type": "code",
   "execution_count": 12,
   "id": "d75979b7",
   "metadata": {},
   "outputs": [
    {
     "name": "stdout",
     "output_type": "stream",
     "text": [
      "Test loss: 0.03806436434388161\n",
      "Test accuracy: 0.9883000254631042\n"
     ]
    }
   ],
   "source": [
    "# Obtain test loss and test accuracy\n",
    "score = model.evaluate(x_test, y_test, verbose=0)\n",
    "print(\"Test loss:\", score[0])\n",
    "print(\"Test accuracy:\", score[1])\n"
   ]
  },
  {
   "cell_type": "code",
   "execution_count": 13,
   "id": "cedd431f",
   "metadata": {},
   "outputs": [
    {
     "name": "stdout",
     "output_type": "stream",
     "text": [
      "train loss: 0.02297869324684143\n",
      "train accuracy: 0.9930999875068665\n"
     ]
    }
   ],
   "source": [
    "# Obtain train loss and train accuracy\n",
    "score = model.evaluate(x_train, y_train, verbose=0)\n",
    "print(\"train loss:\", score[0])\n",
    "print(\"train accuracy:\", score[1])"
   ]
  },
  {
   "cell_type": "code",
   "execution_count": 14,
   "id": "0242c905",
   "metadata": {},
   "outputs": [
    {
     "name": "stdout",
     "output_type": "stream",
     "text": [
      "313/313 [==============================] - 2s 6ms/step\n"
     ]
    }
   ],
   "source": [
    "# Evaluate the model on the test set\n",
    "y_pred = model.predict(x_test)\n",
    "y_pred = np.argmax(y_pred, axis=1)\n",
    "y_true = np.argmax(y_test, axis=1)"
   ]
  },
  {
   "cell_type": "code",
   "execution_count": 18,
   "id": "5530b3e7",
   "metadata": {},
   "outputs": [
    {
     "name": "stdout",
     "output_type": "stream",
     "text": [
      "f1 score is 0.9882981417071321\n"
     ]
    }
   ],
   "source": [
    "# Compute the F1-score\n",
    "f1 = f1_score(y_true, y_pred, average='weighted')\n",
    "print(\"f1 score is {}\".format(f1))"
   ]
  },
  {
   "cell_type": "code",
   "execution_count": 23,
   "id": "42e0a153",
   "metadata": {},
   "outputs": [
    {
     "data": {
      "image/png": "[encoded data removed]",
      "text/plain": [
       "<Figure size 432x288 with 1 Axes>"
      ]
     },
     "metadata": {
      "needs_background": "light"
     },
     "output_type": "display_data"
    }
   ],
   "source": [
    "# Plot the loss function vs. epochs\n",
    "train_loss = history.history['loss']\n",
    "test_loss = history.history['val_loss']\n",
    "plt.plot(range(1, epochs+1), train_loss, label='Train Loss')\n",
    "plt.plot(range(1, epochs+1), test_loss, label='Test Loss')\n",
    "plt.xlabel('Epochs')\n",
    "plt.ylabel('Loss')\n",
    "plt.title('Loss Function vs. Epochs')\n",
    "plt.legend()\n",
    "plt.show()"
   ]
  },
  {
   "cell_type": "code",
   "execution_count": null,
   "id": "ead3096e",
   "metadata": {},
   "outputs": [],
   "source": []
  }
 ],
 "metadata": {
  "kernelspec": {
   "display_name": "Python 3 (ipykernel)",
   "language": "python",
   "name": "python3"
  },
  "language_info": {
   "codemirror_mode": {
    "name": "ipython",
    "version": 3
   },
   "file_extension": ".py",
   "mimetype": "text/x-python",
   "name": "python",
   "nbconvert_exporter": "python",
   "pygments_lexer": "ipython3",
   "version": "3.9.12"
  }
 },
 "nbformat": 4,
 "nbformat_minor": 5
}
