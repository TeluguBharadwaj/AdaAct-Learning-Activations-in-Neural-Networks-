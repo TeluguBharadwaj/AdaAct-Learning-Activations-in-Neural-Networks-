{
 "cells": [
  {
   "cell_type": "code",
   "execution_count": 1,
   "id": "70faa39a",
   "metadata": {},
   "outputs": [],
   "source": [
    "# Some neccessary Libraries \n",
    "import pandas as pd \n",
    "import numpy as np\n",
    "import matplotlib.pyplot as plt\n",
    "import seaborn as sns\n",
    "import tensorflow as tf\n",
    "from tensorflow import keras\n",
    "from tensorflow.keras import layers\n",
    "from tensorflow.keras.models import Sequential\n",
    "from sklearn.model_selection import train_test_split\n",
    "from sklearn.preprocessing import OneHotEncoder, StandardScaler"
   ]
  },
  {
   "cell_type": "code",
   "execution_count": 2,
   "id": "da5612b3",
   "metadata": {},
   "outputs": [
    {
     "data": {
      "text/html": [
       "<div>\n",
       "<style scoped>\n",
       "    .dataframe tbody tr th:only-of-type {\n",
       "        vertical-align: middle;\n",
       "    }\n",
       "\n",
       "    .dataframe tbody tr th {\n",
       "        vertical-align: top;\n",
       "    }\n",
       "\n",
       "    .dataframe thead th {\n",
       "        text-align: right;\n",
       "    }\n",
       "</style>\n",
       "<table border=\"1\" class=\"dataframe\">\n",
       "  <thead>\n",
       "    <tr style=\"text-align: right;\">\n",
       "      <th></th>\n",
       "      <th>variance</th>\n",
       "      <th>skewness</th>\n",
       "      <th>curtosis</th>\n",
       "      <th>entropy</th>\n",
       "      <th>class</th>\n",
       "    </tr>\n",
       "  </thead>\n",
       "  <tbody>\n",
       "    <tr>\n",
       "      <th>0</th>\n",
       "      <td>3.62160</td>\n",
       "      <td>8.6661</td>\n",
       "      <td>-2.8073</td>\n",
       "      <td>-0.44699</td>\n",
       "      <td>0</td>\n",
       "    </tr>\n",
       "    <tr>\n",
       "      <th>1</th>\n",
       "      <td>4.54590</td>\n",
       "      <td>8.1674</td>\n",
       "      <td>-2.4586</td>\n",
       "      <td>-1.46210</td>\n",
       "      <td>0</td>\n",
       "    </tr>\n",
       "    <tr>\n",
       "      <th>2</th>\n",
       "      <td>3.86600</td>\n",
       "      <td>-2.6383</td>\n",
       "      <td>1.9242</td>\n",
       "      <td>0.10645</td>\n",
       "      <td>0</td>\n",
       "    </tr>\n",
       "    <tr>\n",
       "      <th>3</th>\n",
       "      <td>3.45660</td>\n",
       "      <td>9.5228</td>\n",
       "      <td>-4.0112</td>\n",
       "      <td>-3.59440</td>\n",
       "      <td>0</td>\n",
       "    </tr>\n",
       "    <tr>\n",
       "      <th>4</th>\n",
       "      <td>0.32924</td>\n",
       "      <td>-4.4552</td>\n",
       "      <td>4.5718</td>\n",
       "      <td>-0.98880</td>\n",
       "      <td>0</td>\n",
       "    </tr>\n",
       "  </tbody>\n",
       "</table>\n",
       "</div>"
      ],
      "text/plain": [
       "   variance  skewness  curtosis  entropy  class\n",
       "0   3.62160    8.6661   -2.8073 -0.44699      0\n",
       "1   4.54590    8.1674   -2.4586 -1.46210      0\n",
       "2   3.86600   -2.6383    1.9242  0.10645      0\n",
       "3   3.45660    9.5228   -4.0112 -3.59440      0\n",
       "4   0.32924   -4.4552    4.5718 -0.98880      0"
      ]
     },
     "execution_count": 2,
     "metadata": {},
     "output_type": "execute_result"
    }
   ],
   "source": [
    "# Load the IRIS Dataset\n",
    "Bank_note = pd.read_csv('BankNote.csv')\n",
    "Bank_note.head() "
   ]
  },
  {
   "cell_type": "code",
   "execution_count": 3,
   "id": "ed367914",
   "metadata": {},
   "outputs": [
    {
     "name": "stdout",
     "output_type": "stream",
     "text": [
      "<class 'pandas.core.frame.DataFrame'>\n",
      "RangeIndex: 1372 entries, 0 to 1371\n",
      "Data columns (total 5 columns):\n",
      " #   Column    Non-Null Count  Dtype  \n",
      "---  ------    --------------  -----  \n",
      " 0   variance  1372 non-null   float64\n",
      " 1   skewness  1372 non-null   float64\n",
      " 2   curtosis  1372 non-null   float64\n",
      " 3   entropy   1372 non-null   float64\n",
      " 4   class     1372 non-null   int64  \n",
      "dtypes: float64(4), int64(1)\n",
      "memory usage: 53.7 KB\n"
     ]
    }
   ],
   "source": [
    "Bank_note.info()"
   ]
  },
  {
   "cell_type": "code",
   "execution_count": 4,
   "id": "479bddd8",
   "metadata": {},
   "outputs": [
    {
     "data": {
      "text/html": [
       "<div>\n",
       "<style scoped>\n",
       "    .dataframe tbody tr th:only-of-type {\n",
       "        vertical-align: middle;\n",
       "    }\n",
       "\n",
       "    .dataframe tbody tr th {\n",
       "        vertical-align: top;\n",
       "    }\n",
       "\n",
       "    .dataframe thead th {\n",
       "        text-align: right;\n",
       "    }\n",
       "</style>\n",
       "<table border=\"1\" class=\"dataframe\">\n",
       "  <thead>\n",
       "    <tr style=\"text-align: right;\">\n",
       "      <th></th>\n",
       "      <th>variance</th>\n",
       "      <th>skewness</th>\n",
       "      <th>curtosis</th>\n",
       "      <th>entropy</th>\n",
       "      <th>class</th>\n",
       "    </tr>\n",
       "  </thead>\n",
       "  <tbody>\n",
       "    <tr>\n",
       "      <th>count</th>\n",
       "      <td>1372.000000</td>\n",
       "      <td>1372.000000</td>\n",
       "      <td>1372.000000</td>\n",
       "      <td>1372.000000</td>\n",
       "      <td>1372.000000</td>\n",
       "    </tr>\n",
       "    <tr>\n",
       "      <th>mean</th>\n",
       "      <td>0.433735</td>\n",
       "      <td>1.922353</td>\n",
       "      <td>1.397627</td>\n",
       "      <td>-1.191657</td>\n",
       "      <td>0.444606</td>\n",
       "    </tr>\n",
       "    <tr>\n",
       "      <th>std</th>\n",
       "      <td>2.842763</td>\n",
       "      <td>5.869047</td>\n",
       "      <td>4.310030</td>\n",
       "      <td>2.101013</td>\n",
       "      <td>0.497103</td>\n",
       "    </tr>\n",
       "    <tr>\n",
       "      <th>min</th>\n",
       "      <td>-7.042100</td>\n",
       "      <td>-13.773100</td>\n",
       "      <td>-5.286100</td>\n",
       "      <td>-8.548200</td>\n",
       "      <td>0.000000</td>\n",
       "    </tr>\n",
       "    <tr>\n",
       "      <th>25%</th>\n",
       "      <td>-1.773000</td>\n",
       "      <td>-1.708200</td>\n",
       "      <td>-1.574975</td>\n",
       "      <td>-2.413450</td>\n",
       "      <td>0.000000</td>\n",
       "    </tr>\n",
       "    <tr>\n",
       "      <th>50%</th>\n",
       "      <td>0.496180</td>\n",
       "      <td>2.319650</td>\n",
       "      <td>0.616630</td>\n",
       "      <td>-0.586650</td>\n",
       "      <td>0.000000</td>\n",
       "    </tr>\n",
       "    <tr>\n",
       "      <th>75%</th>\n",
       "      <td>2.821475</td>\n",
       "      <td>6.814625</td>\n",
       "      <td>3.179250</td>\n",
       "      <td>0.394810</td>\n",
       "      <td>1.000000</td>\n",
       "    </tr>\n",
       "    <tr>\n",
       "      <th>max</th>\n",
       "      <td>6.824800</td>\n",
       "      <td>12.951600</td>\n",
       "      <td>17.927400</td>\n",
       "      <td>2.449500</td>\n",
       "      <td>1.000000</td>\n",
       "    </tr>\n",
       "  </tbody>\n",
       "</table>\n",
       "</div>"
      ],
      "text/plain": [
       "          variance     skewness     curtosis      entropy        class\n",
       "count  1372.000000  1372.000000  1372.000000  1372.000000  1372.000000\n",
       "mean      0.433735     1.922353     1.397627    -1.191657     0.444606\n",
       "std       2.842763     5.869047     4.310030     2.101013     0.497103\n",
       "min      -7.042100   -13.773100    -5.286100    -8.548200     0.000000\n",
       "25%      -1.773000    -1.708200    -1.574975    -2.413450     0.000000\n",
       "50%       0.496180     2.319650     0.616630    -0.586650     0.000000\n",
       "75%       2.821475     6.814625     3.179250     0.394810     1.000000\n",
       "max       6.824800    12.951600    17.927400     2.449500     1.000000"
      ]
     },
     "execution_count": 4,
     "metadata": {},
     "output_type": "execute_result"
    }
   ],
   "source": [
    "Bank_note.describe() # Statistical summary of the iris dataset"
   ]
  },
  {
   "cell_type": "code",
   "execution_count": 5,
   "id": "9a6280e6",
   "metadata": {},
   "outputs": [
    {
     "data": {
      "text/plain": [
       "variance    0.0\n",
       "skewness    0.0\n",
       "curtosis    0.0\n",
       "entropy     0.0\n",
       "class       0.0\n",
       "dtype: float64"
      ]
     },
     "execution_count": 5,
     "metadata": {},
     "output_type": "execute_result"
    }
   ],
   "source": [
    "# Check for missing value\n",
    "Bank_note.isnull().sum()/len(Bank_note)*100"
   ]
  },
  {
   "cell_type": "markdown",
   "id": "6192d9ec",
   "metadata": {},
   "source": [
    "As you can see the result , there are no missing values"
   ]
  },
  {
   "cell_type": "markdown",
   "id": "5b41189b",
   "metadata": {},
   "source": [
    "# Vizualization of the data"
   ]
  },
  {
   "cell_type": "code",
   "execution_count": 6,
   "id": "0080ed66",
   "metadata": {},
   "outputs": [
    {
     "data": {
      "text/plain": [
       "Text(0.5, 1.0, 'Distribution of Class')"
      ]
     },
     "execution_count": 6,
     "metadata": {},
     "output_type": "execute_result"
    },
    {
     "data": {
      "image/png": "[encoded data removed]",
      "text/plain": [
       "<Figure size 432x288 with 1 Axes>"
      ]
     },
     "metadata": {},
     "output_type": "display_data"
    }
   ],
   "source": [
    "# Target Variable \n",
    "plt.style.use('ggplot')\n",
    "sns.countplot(data = Bank_note , x = 'class')\n",
    "plt.title('Distribution of Class')"
   ]
  },
  {
   "cell_type": "markdown",
   "id": "8038ed92",
   "metadata": {},
   "source": [
    "### Data preprocessing Steps"
   ]
  },
  {
   "cell_type": "code",
   "execution_count": 7,
   "id": "068bd6ba",
   "metadata": {},
   "outputs": [],
   "source": [
    "# Split data into target & predictors\n",
    "X = Bank_note.iloc[: , :4]\n",
    "y = Bank_note.iloc[: , -1]"
   ]
  },
  {
   "cell_type": "code",
   "execution_count": 8,
   "id": "d703cfb0",
   "metadata": {},
   "outputs": [],
   "source": [
    "# Standard Scaling ,important for convergence of the neural network\n",
    "scaler = StandardScaler()\n",
    "X_scaled = scaler.fit_transform(X)"
   ]
  },
  {
   "cell_type": "code",
   "execution_count": 9,
   "id": "07cddff0",
   "metadata": {},
   "outputs": [],
   "source": [
    "# Split the dataset into training and testing\n",
    "X_train, X_test, Y_train, Y_test = train_test_split(\n",
    "    X_scaled, y, test_size=0.2, random_state=4)\n",
    "\n",
    "n_features = X.shape[1]\n",
    "n_classes = 2"
   ]
  },
  {
   "cell_type": "code",
   "execution_count": 10,
   "id": "f6b3699f",
   "metadata": {},
   "outputs": [],
   "source": [
    "# Convert the target labels to one-hot encoded format\n",
    "Y_train = tf.keras.utils.to_categorical(Y_train, num_classes=2)"
   ]
  },
  {
   "cell_type": "code",
   "execution_count": 11,
   "id": "8f18e29f",
   "metadata": {},
   "outputs": [],
   "source": [
    "Y_test = tf.keras.utils.to_categorical(Y_test, num_classes=2)"
   ]
  },
  {
   "cell_type": "code",
   "execution_count": 12,
   "id": "dabf1c71",
   "metadata": {},
   "outputs": [],
   "source": [
    "# neural network architecture for adaptive activation function (AF) selection\n",
    "\n",
    "initializer0 = keras.initializers.RandomUniform(minval = -0.003, maxval =0.0)\n",
    "initializer1 = keras.initializers.RandomUniform(minval = -0.003, maxval =0.0)\n",
    "\n",
    "class Adaact(keras.layers.Layer):\n",
    "    def __init__(self):\n",
    "        super(Adaact, self).__init__()\n",
    "        self.k0 = self.add_weight(name='k0', shape = (), initializer=initializer0, trainable=True)\n",
    "        self.k1 = self.add_weight(name='k1', shape = (), initializer=initializer1, trainable=True)\n",
    "        \n",
    "    def call(self, inputs):\n",
    "        return self.k0 + tf.multiply(inputs, self.k1)"
   ]
  },
  {
   "cell_type": "code",
   "execution_count": 13,
   "id": "c6241c5f",
   "metadata": {},
   "outputs": [],
   "source": [
    "np.random.seed(1)"
   ]
  },
  {
   "cell_type": "code",
   "execution_count": 14,
   "id": "336e68a0",
   "metadata": {},
   "outputs": [
    {
     "name": "stdout",
     "output_type": "stream",
     "text": [
      "Model: \"sequential\"\n",
      "_________________________________________________________________\n",
      " Layer (type)                Output Shape              Param #   \n",
      "=================================================================\n",
      " dense (Dense)               (None, 25)                125       \n",
      "                                                                 \n",
      " adaact (Adaact)             (None, 25)                2         \n",
      "                                                                 \n",
      " dropout (Dropout)           (None, 25)                0         \n",
      "                                                                 \n",
      " dense_1 (Dense)             (None, 2)                 52        \n",
      "                                                                 \n",
      "=================================================================\n",
      "Total params: 179\n",
      "Trainable params: 179\n",
      "Non-trainable params: 0\n",
      "_________________________________________________________________\n"
     ]
    }
   ],
   "source": [
    "# Build model with fully connected layers with dropout regulation\n",
    "model = Sequential()\n",
    "model.add(layers.Dense(25, input_dim=n_features))\n",
    "act = Adaact()\n",
    "model.add(act)\n",
    "model.add(layers.Dropout(0.1))\n",
    "model.add(layers.Dense(n_classes, activation='softmax'))\n",
    "model.summary()"
   ]
  },
  {
   "cell_type": "code",
   "execution_count": 15,
   "id": "25336895",
   "metadata": {
    "scrolled": false
   },
   "outputs": [
    {
     "name": "stdout",
     "output_type": "stream",
     "text": [
      "Epoch 1/100\n",
      "176/176 [==============================] - 1s 3ms/step - loss: 0.6486 - accuracy: 0.6750 - val_loss: 0.5468 - val_accuracy: 0.7636\n",
      "Epoch 2/100\n",
      "176/176 [==============================] - 0s 2ms/step - loss: 0.3953 - accuracy: 0.8506 - val_loss: 0.3046 - val_accuracy: 0.8636\n",
      "Epoch 3/100\n",
      "176/176 [==============================] - 0s 2ms/step - loss: 0.2244 - accuracy: 0.9054 - val_loss: 0.1666 - val_accuracy: 0.9364\n",
      "Epoch 4/100\n",
      "176/176 [==============================] - 0s 2ms/step - loss: 0.1285 - accuracy: 0.9555 - val_loss: 0.0944 - val_accuracy: 0.9727\n",
      "Epoch 5/100\n",
      "176/176 [==============================] - 0s 2ms/step - loss: 0.0840 - accuracy: 0.9726 - val_loss: 0.0626 - val_accuracy: 0.9818\n",
      "Epoch 6/100\n",
      "176/176 [==============================] - 0s 2ms/step - loss: 0.0603 - accuracy: 0.9783 - val_loss: 0.0495 - val_accuracy: 0.9818\n",
      "Epoch 7/100\n",
      "176/176 [==============================] - 0s 2ms/step - loss: 0.0526 - accuracy: 0.9783 - val_loss: 0.0428 - val_accuracy: 0.9818\n",
      "Epoch 8/100\n",
      "176/176 [==============================] - 0s 2ms/step - loss: 0.0454 - accuracy: 0.9818 - val_loss: 0.0385 - val_accuracy: 0.9818\n",
      "Epoch 9/100\n",
      "176/176 [==============================] - 0s 2ms/step - loss: 0.0432 - accuracy: 0.9783 - val_loss: 0.0346 - val_accuracy: 0.9818\n",
      "Epoch 10/100\n",
      "176/176 [==============================] - 0s 2ms/step - loss: 0.0398 - accuracy: 0.9818 - val_loss: 0.0326 - val_accuracy: 0.9818\n",
      "Epoch 11/100\n",
      "176/176 [==============================] - 0s 2ms/step - loss: 0.0405 - accuracy: 0.9795 - val_loss: 0.0303 - val_accuracy: 0.9818\n",
      "Epoch 12/100\n",
      "176/176 [==============================] - 0s 2ms/step - loss: 0.0393 - accuracy: 0.9783 - val_loss: 0.0289 - val_accuracy: 0.9818\n",
      "Epoch 13/100\n",
      "176/176 [==============================] - 0s 2ms/step - loss: 0.0380 - accuracy: 0.9829 - val_loss: 0.0271 - val_accuracy: 0.9909\n",
      "Epoch 14/100\n",
      "176/176 [==============================] - 0s 2ms/step - loss: 0.0350 - accuracy: 0.9840 - val_loss: 0.0262 - val_accuracy: 0.9909\n",
      "Epoch 15/100\n",
      "176/176 [==============================] - 0s 2ms/step - loss: 0.0328 - accuracy: 0.9840 - val_loss: 0.0246 - val_accuracy: 0.9909\n",
      "Epoch 16/100\n",
      "176/176 [==============================] - 0s 2ms/step - loss: 0.0296 - accuracy: 0.9863 - val_loss: 0.0234 - val_accuracy: 0.9909\n",
      "Epoch 17/100\n",
      "176/176 [==============================] - 0s 2ms/step - loss: 0.0313 - accuracy: 0.9852 - val_loss: 0.0224 - val_accuracy: 0.9909\n",
      "Epoch 18/100\n",
      "176/176 [==============================] - 0s 2ms/step - loss: 0.0296 - accuracy: 0.9875 - val_loss: 0.0231 - val_accuracy: 0.9909\n",
      "Epoch 19/100\n",
      "176/176 [==============================] - 1s 3ms/step - loss: 0.0298 - accuracy: 0.9863 - val_loss: 0.0211 - val_accuracy: 0.9909\n",
      "Epoch 20/100\n",
      "176/176 [==============================] - 0s 3ms/step - loss: 0.0328 - accuracy: 0.9840 - val_loss: 0.0206 - val_accuracy: 0.9909\n",
      "Epoch 21/100\n",
      "176/176 [==============================] - 0s 2ms/step - loss: 0.0275 - accuracy: 0.9886 - val_loss: 0.0198 - val_accuracy: 0.9909\n",
      "Epoch 22/100\n",
      "176/176 [==============================] - 0s 2ms/step - loss: 0.0278 - accuracy: 0.9875 - val_loss: 0.0191 - val_accuracy: 0.9909\n",
      "Epoch 23/100\n",
      "176/176 [==============================] - 0s 2ms/step - loss: 0.0299 - accuracy: 0.9863 - val_loss: 0.0185 - val_accuracy: 0.9909\n",
      "Epoch 24/100\n",
      "176/176 [==============================] - 0s 2ms/step - loss: 0.0285 - accuracy: 0.9886 - val_loss: 0.0181 - val_accuracy: 0.9909\n",
      "Epoch 25/100\n",
      "176/176 [==============================] - 0s 2ms/step - loss: 0.0323 - accuracy: 0.9840 - val_loss: 0.0189 - val_accuracy: 0.9909\n",
      "Epoch 26/100\n",
      "176/176 [==============================] - 0s 2ms/step - loss: 0.0277 - accuracy: 0.9852 - val_loss: 0.0188 - val_accuracy: 0.9909\n",
      "Epoch 27/100\n",
      "176/176 [==============================] - 0s 2ms/step - loss: 0.0278 - accuracy: 0.9863 - val_loss: 0.0175 - val_accuracy: 0.9909\n",
      "Epoch 28/100\n",
      "176/176 [==============================] - 0s 2ms/step - loss: 0.0318 - accuracy: 0.9840 - val_loss: 0.0158 - val_accuracy: 0.9955\n",
      "Epoch 29/100\n",
      "176/176 [==============================] - 0s 2ms/step - loss: 0.0263 - accuracy: 0.9863 - val_loss: 0.0170 - val_accuracy: 0.9909\n",
      "Epoch 30/100\n",
      "176/176 [==============================] - 0s 2ms/step - loss: 0.0253 - accuracy: 0.9886 - val_loss: 0.0171 - val_accuracy: 0.9909\n",
      "Epoch 31/100\n",
      "176/176 [==============================] - 0s 2ms/step - loss: 0.0263 - accuracy: 0.9886 - val_loss: 0.0167 - val_accuracy: 0.9909\n",
      "Epoch 32/100\n",
      "176/176 [==============================] - 0s 2ms/step - loss: 0.0269 - accuracy: 0.9863 - val_loss: 0.0143 - val_accuracy: 0.9955\n",
      "Epoch 33/100\n",
      "176/176 [==============================] - 0s 2ms/step - loss: 0.0262 - accuracy: 0.9863 - val_loss: 0.0145 - val_accuracy: 0.9955\n",
      "Epoch 34/100\n",
      "176/176 [==============================] - 0s 2ms/step - loss: 0.0311 - accuracy: 0.9863 - val_loss: 0.0151 - val_accuracy: 0.9909\n",
      "Epoch 35/100\n",
      "176/176 [==============================] - 0s 2ms/step - loss: 0.0305 - accuracy: 0.9852 - val_loss: 0.0147 - val_accuracy: 0.9955\n",
      "Epoch 36/100\n",
      "176/176 [==============================] - 0s 2ms/step - loss: 0.0275 - accuracy: 0.9840 - val_loss: 0.0152 - val_accuracy: 0.9909\n",
      "Epoch 37/100\n",
      "176/176 [==============================] - 0s 2ms/step - loss: 0.0223 - accuracy: 0.9886 - val_loss: 0.0147 - val_accuracy: 0.9955\n",
      "Epoch 38/100\n",
      "176/176 [==============================] - 0s 2ms/step - loss: 0.0247 - accuracy: 0.9875 - val_loss: 0.0143 - val_accuracy: 0.9955\n",
      "Epoch 39/100\n",
      "176/176 [==============================] - 0s 2ms/step - loss: 0.0300 - accuracy: 0.9829 - val_loss: 0.0143 - val_accuracy: 0.9955\n",
      "Epoch 40/100\n",
      "176/176 [==============================] - 0s 2ms/step - loss: 0.0289 - accuracy: 0.9840 - val_loss: 0.0160 - val_accuracy: 0.9909\n",
      "Epoch 41/100\n",
      "176/176 [==============================] - 0s 2ms/step - loss: 0.0290 - accuracy: 0.9852 - val_loss: 0.0148 - val_accuracy: 0.9955\n",
      "Epoch 42/100\n",
      "176/176 [==============================] - 0s 2ms/step - loss: 0.0240 - accuracy: 0.9863 - val_loss: 0.0147 - val_accuracy: 0.9909\n",
      "Epoch 43/100\n",
      "176/176 [==============================] - 0s 2ms/step - loss: 0.0288 - accuracy: 0.9863 - val_loss: 0.0148 - val_accuracy: 0.9909\n",
      "Epoch 44/100\n",
      "176/176 [==============================] - 0s 2ms/step - loss: 0.0264 - accuracy: 0.9852 - val_loss: 0.0129 - val_accuracy: 0.9955\n",
      "Epoch 45/100\n",
      "176/176 [==============================] - 0s 2ms/step - loss: 0.0282 - accuracy: 0.9852 - val_loss: 0.0149 - val_accuracy: 0.9955\n",
      "Epoch 46/100\n",
      "176/176 [==============================] - 0s 2ms/step - loss: 0.0272 - accuracy: 0.9840 - val_loss: 0.0136 - val_accuracy: 0.9955\n",
      "Epoch 47/100\n",
      "176/176 [==============================] - 0s 2ms/step - loss: 0.0287 - accuracy: 0.9840 - val_loss: 0.0141 - val_accuracy: 0.9955\n",
      "Epoch 48/100\n",
      "176/176 [==============================] - 0s 2ms/step - loss: 0.0297 - accuracy: 0.9840 - val_loss: 0.0137 - val_accuracy: 0.9955\n",
      "Epoch 49/100\n",
      "176/176 [==============================] - 0s 2ms/step - loss: 0.0311 - accuracy: 0.9818 - val_loss: 0.0141 - val_accuracy: 0.9955\n",
      "Epoch 50/100\n",
      "176/176 [==============================] - 0s 2ms/step - loss: 0.0241 - accuracy: 0.9886 - val_loss: 0.0134 - val_accuracy: 0.9955\n",
      "Epoch 51/100\n",
      "176/176 [==============================] - 0s 3ms/step - loss: 0.0276 - accuracy: 0.9852 - val_loss: 0.0139 - val_accuracy: 0.9955\n",
      "Epoch 52/100\n",
      "176/176 [==============================] - 0s 3ms/step - loss: 0.0279 - accuracy: 0.9840 - val_loss: 0.0132 - val_accuracy: 0.9955\n",
      "Epoch 53/100\n",
      "176/176 [==============================] - 0s 3ms/step - loss: 0.0260 - accuracy: 0.9875 - val_loss: 0.0133 - val_accuracy: 0.9955\n",
      "Epoch 54/100\n",
      "176/176 [==============================] - 0s 3ms/step - loss: 0.0246 - accuracy: 0.9863 - val_loss: 0.0151 - val_accuracy: 0.9909\n",
      "Epoch 55/100\n",
      "176/176 [==============================] - 0s 2ms/step - loss: 0.0251 - accuracy: 0.9886 - val_loss: 0.0141 - val_accuracy: 0.9909\n",
      "Epoch 56/100\n",
      "176/176 [==============================] - 0s 3ms/step - loss: 0.0267 - accuracy: 0.9875 - val_loss: 0.0131 - val_accuracy: 0.9955\n",
      "Epoch 57/100\n",
      "176/176 [==============================] - 0s 2ms/step - loss: 0.0262 - accuracy: 0.9863 - val_loss: 0.0149 - val_accuracy: 0.9909\n",
      "Epoch 58/100\n",
      "176/176 [==============================] - 0s 2ms/step - loss: 0.0230 - accuracy: 0.9886 - val_loss: 0.0136 - val_accuracy: 0.9955\n",
      "Epoch 59/100\n",
      "176/176 [==============================] - 0s 2ms/step - loss: 0.0303 - accuracy: 0.9829 - val_loss: 0.0133 - val_accuracy: 0.9955\n",
      "Epoch 60/100\n",
      "176/176 [==============================] - 0s 2ms/step - loss: 0.0243 - accuracy: 0.9886 - val_loss: 0.0129 - val_accuracy: 0.9955\n",
      "Epoch 61/100\n",
      "176/176 [==============================] - 0s 2ms/step - loss: 0.0249 - accuracy: 0.9886 - val_loss: 0.0126 - val_accuracy: 0.9955\n",
      "Epoch 62/100\n",
      "176/176 [==============================] - 0s 3ms/step - loss: 0.0269 - accuracy: 0.9875 - val_loss: 0.0131 - val_accuracy: 0.9955\n",
      "Epoch 63/100\n",
      "176/176 [==============================] - 0s 2ms/step - loss: 0.0268 - accuracy: 0.9840 - val_loss: 0.0128 - val_accuracy: 0.9955\n",
      "Epoch 64/100\n",
      "176/176 [==============================] - 0s 2ms/step - loss: 0.0239 - accuracy: 0.9886 - val_loss: 0.0138 - val_accuracy: 0.9909\n",
      "Epoch 65/100\n",
      "176/176 [==============================] - 0s 2ms/step - loss: 0.0281 - accuracy: 0.9852 - val_loss: 0.0144 - val_accuracy: 0.9864\n",
      "Epoch 66/100\n",
      "176/176 [==============================] - 0s 2ms/step - loss: 0.0259 - accuracy: 0.9852 - val_loss: 0.0143 - val_accuracy: 0.9955\n",
      "Epoch 67/100\n",
      "176/176 [==============================] - 0s 2ms/step - loss: 0.0246 - accuracy: 0.9909 - val_loss: 0.0132 - val_accuracy: 0.9955\n",
      "Epoch 68/100\n",
      "176/176 [==============================] - 0s 2ms/step - loss: 0.0261 - accuracy: 0.9852 - val_loss: 0.0133 - val_accuracy: 0.9955\n",
      "Epoch 69/100\n",
      "176/176 [==============================] - 0s 2ms/step - loss: 0.0293 - accuracy: 0.9818 - val_loss: 0.0125 - val_accuracy: 0.9955\n",
      "Epoch 70/100\n",
      "176/176 [==============================] - 0s 2ms/step - loss: 0.0299 - accuracy: 0.9840 - val_loss: 0.0128 - val_accuracy: 0.9955\n",
      "Epoch 71/100\n",
      "176/176 [==============================] - 0s 2ms/step - loss: 0.0260 - accuracy: 0.9863 - val_loss: 0.0125 - val_accuracy: 0.9955\n",
      "Epoch 72/100\n",
      "176/176 [==============================] - 0s 2ms/step - loss: 0.0248 - accuracy: 0.9863 - val_loss: 0.0126 - val_accuracy: 0.9955\n",
      "Epoch 73/100\n",
      "176/176 [==============================] - 0s 2ms/step - loss: 0.0263 - accuracy: 0.9863 - val_loss: 0.0134 - val_accuracy: 0.9955\n",
      "Epoch 74/100\n",
      "176/176 [==============================] - 0s 2ms/step - loss: 0.0251 - accuracy: 0.9852 - val_loss: 0.0119 - val_accuracy: 0.9955\n",
      "Epoch 75/100\n",
      "176/176 [==============================] - 0s 2ms/step - loss: 0.0271 - accuracy: 0.9852 - val_loss: 0.0134 - val_accuracy: 0.9955\n",
      "Epoch 76/100\n",
      "176/176 [==============================] - 0s 2ms/step - loss: 0.0267 - accuracy: 0.9863 - val_loss: 0.0123 - val_accuracy: 0.9955\n",
      "Epoch 77/100\n",
      "176/176 [==============================] - 0s 2ms/step - loss: 0.0300 - accuracy: 0.9840 - val_loss: 0.0123 - val_accuracy: 0.9955\n",
      "Epoch 78/100\n",
      "176/176 [==============================] - 0s 2ms/step - loss: 0.0251 - accuracy: 0.9875 - val_loss: 0.0130 - val_accuracy: 0.9955\n",
      "Epoch 79/100\n",
      "176/176 [==============================] - 0s 2ms/step - loss: 0.0261 - accuracy: 0.9897 - val_loss: 0.0126 - val_accuracy: 0.9955\n",
      "Epoch 80/100\n",
      "176/176 [==============================] - 0s 2ms/step - loss: 0.0269 - accuracy: 0.9852 - val_loss: 0.0143 - val_accuracy: 0.9909\n",
      "Epoch 81/100\n",
      "176/176 [==============================] - 0s 2ms/step - loss: 0.0241 - accuracy: 0.9875 - val_loss: 0.0143 - val_accuracy: 0.9955\n",
      "Epoch 82/100\n",
      "176/176 [==============================] - 0s 2ms/step - loss: 0.0301 - accuracy: 0.9863 - val_loss: 0.0127 - val_accuracy: 0.9955\n",
      "Epoch 83/100\n",
      "176/176 [==============================] - 0s 2ms/step - loss: 0.0222 - accuracy: 0.9875 - val_loss: 0.0126 - val_accuracy: 0.9955\n",
      "Epoch 84/100\n",
      "176/176 [==============================] - 0s 2ms/step - loss: 0.0245 - accuracy: 0.9875 - val_loss: 0.0127 - val_accuracy: 0.9955\n",
      "Epoch 85/100\n",
      "176/176 [==============================] - 0s 2ms/step - loss: 0.0276 - accuracy: 0.9875 - val_loss: 0.0133 - val_accuracy: 0.9909\n",
      "Epoch 86/100\n",
      "176/176 [==============================] - 0s 2ms/step - loss: 0.0255 - accuracy: 0.9852 - val_loss: 0.0127 - val_accuracy: 0.9955\n",
      "Epoch 87/100\n",
      "176/176 [==============================] - 0s 2ms/step - loss: 0.0270 - accuracy: 0.9863 - val_loss: 0.0127 - val_accuracy: 0.9955\n",
      "Epoch 88/100\n",
      "176/176 [==============================] - 0s 2ms/step - loss: 0.0269 - accuracy: 0.9840 - val_loss: 0.0129 - val_accuracy: 0.9955\n",
      "Epoch 89/100\n",
      "176/176 [==============================] - 0s 2ms/step - loss: 0.0257 - accuracy: 0.9840 - val_loss: 0.0129 - val_accuracy: 0.9955\n",
      "Epoch 90/100\n",
      "176/176 [==============================] - 0s 2ms/step - loss: 0.0266 - accuracy: 0.9863 - val_loss: 0.0118 - val_accuracy: 0.9955\n",
      "Epoch 91/100\n",
      "176/176 [==============================] - 0s 2ms/step - loss: 0.0245 - accuracy: 0.9852 - val_loss: 0.0130 - val_accuracy: 0.9955\n",
      "Epoch 92/100\n",
      "176/176 [==============================] - 0s 2ms/step - loss: 0.0252 - accuracy: 0.9875 - val_loss: 0.0131 - val_accuracy: 0.9955\n",
      "Epoch 93/100\n",
      "176/176 [==============================] - 0s 2ms/step - loss: 0.0262 - accuracy: 0.9875 - val_loss: 0.0133 - val_accuracy: 0.9955\n",
      "Epoch 94/100\n",
      "176/176 [==============================] - 0s 2ms/step - loss: 0.0261 - accuracy: 0.9863 - val_loss: 0.0127 - val_accuracy: 0.9955\n",
      "Epoch 95/100\n",
      "176/176 [==============================] - 0s 2ms/step - loss: 0.0260 - accuracy: 0.9840 - val_loss: 0.0124 - val_accuracy: 0.9955\n",
      "Epoch 96/100\n",
      "176/176 [==============================] - 0s 2ms/step - loss: 0.0259 - accuracy: 0.9886 - val_loss: 0.0131 - val_accuracy: 0.9955\n",
      "Epoch 97/100\n",
      "176/176 [==============================] - 0s 2ms/step - loss: 0.0248 - accuracy: 0.9829 - val_loss: 0.0121 - val_accuracy: 0.9955\n",
      "Epoch 98/100\n",
      "176/176 [==============================] - 0s 2ms/step - loss: 0.0250 - accuracy: 0.9886 - val_loss: 0.0125 - val_accuracy: 0.9955\n",
      "Epoch 99/100\n",
      "176/176 [==============================] - 0s 2ms/step - loss: 0.0242 - accuracy: 0.9863 - val_loss: 0.0122 - val_accuracy: 0.9955\n",
      "Epoch 100/100\n",
      "176/176 [==============================] - 0s 2ms/step - loss: 0.0230 - accuracy: 0.9886 - val_loss: 0.0122 - val_accuracy: 0.9955\n"
     ]
    }
   ],
   "source": [
    "import datetime\n",
    "batch_size = 5\n",
    "epochs = 100\n",
    "\n",
    "model.compile(loss=\"binary_crossentropy\", optimizer = keras.optimizers.Adam(learning_rate = 0.001), metrics=[\"accuracy\"])\n",
    "\n",
    "history = model.fit(X_train, Y_train, batch_size=batch_size, epochs=epochs, validation_split=0.2, verbose=1)"
   ]
  },
  {
   "cell_type": "code",
   "execution_count": 16,
   "id": "deb94794",
   "metadata": {
    "scrolled": false
   },
   "outputs": [
    {
     "name": "stdout",
     "output_type": "stream",
     "text": [
      "[0.6485558748245239, 0.3952579200267792, 0.22437560558319092, 0.12853866815567017, 0.08399797230958939, 0.06029258668422699, 0.052556879818439484, 0.04544270411133766, 0.04324392229318619, 0.03979044780135155, 0.04049057140946388, 0.039277058094739914, 0.038038067519664764, 0.03502853587269783, 0.03283048793673515, 0.02963290549814701, 0.03134237974882126, 0.02958376519382, 0.029814066365361214, 0.03276451677083969, 0.02748069353401661, 0.027752026915550232, 0.029897991567850113, 0.028470251709222794, 0.03226931393146515, 0.027652429416775703, 0.027832597494125366, 0.03179951384663582, 0.026334932073950768, 0.025332357734441757, 0.0262701865285635, 0.026875799521803856, 0.026180289685726166, 0.031140968203544617, 0.03050634078681469, 0.027497418224811554, 0.022323857992887497, 0.024704989045858383, 0.03000662848353386, 0.028949372470378876, 0.02896358072757721, 0.023999445140361786, 0.02877126634120941, 0.026408687233924866, 0.02815369889140129, 0.02718242071568966, 0.028692763298749924, 0.02969352714717388, 0.031108245253562927, 0.02407284639775753, 0.027564994990825653, 0.027915846556425095, 0.026034299284219742, 0.024638453498482704, 0.025141270831227303, 0.02667100541293621, 0.026219170540571213, 0.02296733669936657, 0.030251409858465195, 0.024253182113170624, 0.024872861802577972, 0.026914963498711586, 0.026811111718416214, 0.02387108840048313, 0.028118351474404335, 0.025926483795046806, 0.024554084986448288, 0.02612444758415222, 0.0292695090174675, 0.02992628701031208, 0.026011528447270393, 0.024776792153716087, 0.026297321543097496, 0.025147419422864914, 0.027112159878015518, 0.026685502380132675, 0.02997284010052681, 0.02509801834821701, 0.026064075529575348, 0.026925725862383842, 0.024096641689538956, 0.0301200058311224, 0.02221672795712948, 0.024548405781388283, 0.027550332248210907, 0.025519801303744316, 0.027021361514925957, 0.026879962533712387, 0.025737127289175987, 0.026616167277097702, 0.02449488453567028, 0.025220375508069992, 0.02615932933986187, 0.026089848950505257, 0.026029543951153755, 0.02589382417500019, 0.024751989170908928, 0.025017477571964264, 0.024199720472097397, 0.022952590137720108]\n"
     ]
    }
   ],
   "source": [
    "# parameter updates during training\n",
    "parameter_updates = history.history['loss']\n",
    "print(parameter_updates)"
   ]
  },
  {
   "cell_type": "code",
   "execution_count": 17,
   "id": "86c01ebe",
   "metadata": {
    "scrolled": false
   },
   "outputs": [
    {
     "name": "stdout",
     "output_type": "stream",
     "text": [
      "[array([[-0.4065642 ,  0.6926377 ,  0.8997619 ,  0.5417874 , -0.4378352 ,\n",
      "        -0.732094  , -0.5529764 ,  0.48054317, -0.7776041 ,  0.5020408 ,\n",
      "        -0.68246895,  0.3104492 , -0.6104475 , -0.7469336 ,  0.37022093,\n",
      "        -0.49615166, -0.5783584 , -0.2593103 ,  0.92714304,  0.5583757 ,\n",
      "        -0.7542349 ,  0.45108336,  0.69351035,  0.7510249 , -0.5671015 ],\n",
      "       [-0.44997898,  0.9064972 ,  0.39218646,  0.7587957 , -0.49483603,\n",
      "        -0.28136888, -0.8341953 ,  0.8647805 , -0.29011607,  0.7462202 ,\n",
      "        -0.6762327 ,  0.58671385, -0.695857  , -0.2684829 ,  0.84728366,\n",
      "        -0.7366011 , -0.5153243 , -0.12947267,  0.49657625,  0.12683174,\n",
      "        -0.39505884,  0.67736745,  0.9245042 ,  0.29069048, -0.8097516 ],\n",
      "       [-0.25556335,  0.78626674,  0.59209716,  0.6360964 , -0.2866947 ,\n",
      "        -0.41919193, -0.38399768,  0.6943488 , -0.61038214,  0.51356965,\n",
      "        -0.56496984,  0.46154478, -0.3120484 , -0.60491574,  0.6671716 ,\n",
      "        -0.40547562, -0.7562085 , -0.13688885,  0.6416231 ,  0.15595308,\n",
      "        -0.42494997,  0.4194641 ,  0.87791914,  0.7691384 , -0.7055342 ],\n",
      "       [ 0.35083193,  0.22633831,  0.17787723,  0.15140897, -0.29390678,\n",
      "         0.03352306, -0.12581001,  0.07453788,  0.3360009 ,  0.12028949,\n",
      "         0.06079133,  0.01431851, -0.36218017,  0.2623013 , -0.00277159,\n",
      "        -0.35081527,  0.18504918,  0.06754328, -0.08564462, -0.04329171,\n",
      "        -0.22096077,  0.00252395, -0.0024565 ,  0.03253083, -0.0800472 ]],\n",
      "      dtype=float32), array([-0.22699796,  0.2461981 ,  0.21563624,  0.20677601, -0.29210988,\n",
      "       -0.1568839 , -0.32484394,  0.2651007 , -0.16832714,  0.2612133 ,\n",
      "       -0.28830978,  0.1972867 , -0.2798633 , -0.25018638,  0.28815696,\n",
      "       -0.27379698, -0.28804284, -0.14062199,  0.24248351,  0.10187197,\n",
      "       -0.22865573,  0.23847523,  0.3201042 ,  0.16168815, -0.36411485],\n",
      "      dtype=float32), -0.069496684, -1.3272748, array([[ 0.5956784 , -0.31579423],\n",
      "       [-1.4254978 ,  1.3467261 ],\n",
      "       [-0.4402376 ,  0.90250844],\n",
      "       [-1.4653169 ,  0.9285165 ],\n",
      "       [ 0.45248154, -0.43738663],\n",
      "       [ 0.5191566 , -0.616931  ],\n",
      "       [ 0.8028475 , -0.62052983],\n",
      "       [-2.1477444 ,  2.125254  ],\n",
      "       [ 0.7831288 , -0.9070674 ],\n",
      "       [-0.52594465,  1.0217229 ],\n",
      "       [ 0.7537853 , -0.8965133 ],\n",
      "       [-1.0931368 ,  1.243814  ],\n",
      "       [ 0.4090904 , -0.30085313],\n",
      "       [ 0.8778666 , -1.1604389 ],\n",
      "       [-1.4609351 ,  1.2032098 ],\n",
      "       [ 0.51352245, -0.6164947 ],\n",
      "       [ 0.6271605 , -0.9513298 ],\n",
      "       [ 0.08239944, -0.07673655],\n",
      "       [-1.5337877 ,  0.9881039 ],\n",
      "       [-0.294755  , -0.00771043],\n",
      "       [ 0.42980075, -0.67308587],\n",
      "       [-0.35511926,  0.6984439 ],\n",
      "       [-1.4100589 ,  1.6259052 ],\n",
      "       [-0.76967597,  0.22592625],\n",
      "       [ 1.1976268 , -1.1936533 ]], dtype=float32), array([ 0.12595595, -0.14804587], dtype=float32)]\n"
     ]
    }
   ],
   "source": [
    "# final parameter values at the end of training\n",
    "final_parameter_values = model.get_weights()\n",
    "print(final_parameter_values)"
   ]
  },
  {
   "cell_type": "code",
   "execution_count": 18,
   "id": "b06aa072",
   "metadata": {},
   "outputs": [
    {
     "name": "stdout",
     "output_type": "stream",
     "text": [
      "179\n"
     ]
    }
   ],
   "source": [
    "total_parameters = model.count_params()\n",
    "print(total_parameters)"
   ]
  },
  {
   "cell_type": "code",
   "execution_count": 19,
   "id": "a3b5a3e6",
   "metadata": {},
   "outputs": [
    {
     "name": "stdout",
     "output_type": "stream",
     "text": [
      "Test loss: 0.015128079801797867\n",
      "Test accuracy: 0.996363639831543\n"
     ]
    }
   ],
   "source": [
    "score = model.evaluate(X_test, Y_test, verbose=0)\n",
    "print(\"Test loss:\", score[0])\n",
    "print(\"Test accuracy:\", score[1])"
   ]
  },
  {
   "cell_type": "code",
   "execution_count": 20,
   "id": "5acc3fdd",
   "metadata": {},
   "outputs": [
    {
     "name": "stdout",
     "output_type": "stream",
     "text": [
      "AF coefficients (weights) [-0.069496684, -1.3272748]\n"
     ]
    }
   ],
   "source": [
    "# Optimal Value of k0,k1 & k2\n",
    "print(\"AF coefficients (weights) {}\".format(act.get_weights()))"
   ]
  },
  {
   "cell_type": "code",
   "execution_count": 21,
   "id": "775781be",
   "metadata": {},
   "outputs": [],
   "source": [
    "from sklearn.metrics import f1_score\n",
    "# training and test loss\n",
    "train_loss = history.history['loss']\n",
    "val_loss = history.history['val_loss']"
   ]
  },
  {
   "cell_type": "code",
   "execution_count": 22,
   "id": "6449133f",
   "metadata": {},
   "outputs": [
    {
     "name": "stdout",
     "output_type": "stream",
     "text": [
      "0.022952590137720108\n"
     ]
    }
   ],
   "source": [
    "print(train_loss[-1])"
   ]
  },
  {
   "cell_type": "code",
   "execution_count": 23,
   "id": "2e930fc9",
   "metadata": {},
   "outputs": [],
   "source": [
    "# training and testing accuracy\n",
    "train_accuracy = history.history['accuracy']\n",
    "val_accuracy = history.history['val_accuracy']"
   ]
  },
  {
   "cell_type": "code",
   "execution_count": 24,
   "id": "fdd26a27",
   "metadata": {},
   "outputs": [
    {
     "name": "stdout",
     "output_type": "stream",
     "text": [
      "0.9885975122451782\n"
     ]
    }
   ],
   "source": [
    "print(train_accuracy[-1])"
   ]
  },
  {
   "cell_type": "code",
   "execution_count": 25,
   "id": "47bcee44",
   "metadata": {},
   "outputs": [
    {
     "name": "stdout",
     "output_type": "stream",
     "text": [
      "9/9 [==============================] - 0s 3ms/step\n"
     ]
    }
   ],
   "source": [
    "# predictions on the test set\n",
    "y_pred = model.predict(X_test)\n",
    "y_pred = np.argmax(y_pred, axis=1)"
   ]
  },
  {
   "cell_type": "code",
   "execution_count": 26,
   "id": "aceef5ee",
   "metadata": {},
   "outputs": [],
   "source": [
    "#  F1-Score\n",
    "f1 = f1_score(np.argmax(Y_test, axis=1), y_pred, average='weighted')"
   ]
  },
  {
   "cell_type": "code",
   "execution_count": 27,
   "id": "04065886",
   "metadata": {},
   "outputs": [
    {
     "name": "stdout",
     "output_type": "stream",
     "text": [
      "Test loss: 0.015128079801797867\n",
      "Test accuracy: 0.996363639831543\n",
      "F1-Score: 0.9963656013017715\n"
     ]
    }
   ],
   "source": [
    "# Print test loss, test accuracy, and F1-Score\n",
    "score = model.evaluate(X_test, Y_test, verbose=0)\n",
    "print(\"Test loss:\", score[0])\n",
    "print(\"Test accuracy:\", score[1])\n",
    "print(\"F1-Score:\", f1)"
   ]
  },
  {
   "cell_type": "code",
   "execution_count": 28,
   "id": "566b4e0c",
   "metadata": {},
   "outputs": [
    {
     "data": {
      "image/png": "[encoded data removed]",
      "text/plain": [
       "<Figure size 432x288 with 1 Axes>"
      ]
     },
     "metadata": {},
     "output_type": "display_data"
    }
   ],
   "source": [
    "# Plot of loss function vs. epochs\n",
    "plt.plot(range(1, epochs + 1), train_loss, label='Train Loss')\n",
    "plt.plot(range(1, epochs + 1), val_loss, label='Validation Loss')\n",
    "plt.xlabel('Epochs')\n",
    "plt.ylabel('Loss')\n",
    "plt.title('Loss Function vs. Epochs')\n",
    "plt.legend()\n",
    "plt.show()"
   ]
  },
  {
   "cell_type": "code",
   "execution_count": null,
   "id": "cd776002",
   "metadata": {},
   "outputs": [],
   "source": []
  }
 ],
 "metadata": {
  "kernelspec": {
   "display_name": "Python 3 (ipykernel)",
   "language": "python",
   "name": "python3"
  },
  "language_info": {
   "codemirror_mode": {
    "name": "ipython",
    "version": 3
   },
   "file_extension": ".py",
   "mimetype": "text/x-python",
   "name": "python",
   "nbconvert_exporter": "python",
   "pygments_lexer": "ipython3",
   "version": "3.9.12"
  }
 },
 "nbformat": 4,
 "nbformat_minor": 5
}
